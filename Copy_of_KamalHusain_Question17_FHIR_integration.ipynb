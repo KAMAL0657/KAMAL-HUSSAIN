{
  "cells": [
    {
      "cell_type": "markdown",
      "metadata": {
        "id": "view-in-github",
        "colab_type": "text"
      },
      "source": [
        "<a href=\"https://colab.research.google.com/github/KAMAL0657/KAMAL-HUSSAIN/blob/main/Copy_of_KamalHusain_Question17_FHIR_integration.ipynb\" target=\"_parent\"><img src=\"https://colab.research.google.com/assets/colab-badge.svg\" alt=\"Open In Colab\"/></a>"
      ]
    },
    {
      "cell_type": "markdown",
      "id": "cfe364a4",
      "metadata": {
        "id": "cfe364a4"
      },
      "source": [
        "# Q 17 — FHIR-integrated Implementation (Decision Tree)\n",
        "\n",
        "**MY SELF:** KAMAL HUSSAIN\n",
        "\n",
        "This notebook shows how to fetch lab test data from a FHIR server (if available), preprocess it, train a cost-sensitive Decision Tree, produce interpretability artifacts (rule export + SHAP), and export the model for mobile deployment.\n"
      ]
    },
    {
      "cell_type": "code",
      "execution_count": null,
      "id": "96198a6a",
      "metadata": {
        "colab": {
          "base_uri": "https://localhost:8080/"
        },
        "id": "96198a6a",
        "outputId": "0f76a130-7987-44b8-c4a7-b994321fcd9d"
      },
      "outputs": [
        {
          "output_type": "stream",
          "name": "stdout",
          "text": [
            "FHIR configured? False\n"
          ]
        }
      ],
      "source": [
        "# Install required packages in Colab (uncomment if running in Colab)\n",
        "# !pip install requests pandas scikit-learn joblib shap\n",
        "\n",
        "import os\n",
        "import requests\n",
        "import json\n",
        "import numpy as np\n",
        "import pandas as pd\n",
        "from collections import Counter\n",
        "from sklearn.tree import DecisionTreeClassifier, export_text\n",
        "from sklearn.model_selection import train_test_split\n",
        "from sklearn.impute import SimpleImputer\n",
        "from sklearn.metrics import classification_report, confusion_matrix\n",
        "import joblib\n",
        "\n",
        "RANDOM_STATE = 42\n",
        "np.random.seed(RANDOM_STATE)\n",
        "\n",
        "# Configuration: set your FHIR server details here if available\n",
        "FHIR_SERVER_URL = os.environ.get('FHIR_SERVER_URL', '')  # e.g., 'https://hapi.fhir.org/baseR4'\n",
        "FHIR_BEARER_TOKEN = os.environ.get('FHIR_BEARER_TOKEN', '')  # if auth needed\n",
        "\n",
        "# For demo, define 15 feature names\n",
        "FEATURE_NAMES = [f'marker_{i+1}' for i in range(15)]\n",
        "print('FHIR configured?', bool(FHIR_SERVER_URL))\n"
      ]
    },
    {
      "cell_type": "code",
      "execution_count": null,
      "id": "d400c915",
      "metadata": {
        "id": "d400c915"
      },
      "outputs": [],
      "source": [
        "def fetch_observations_for_patient(patient_id, server_url=FHIR_SERVER_URL, token=FHIR_BEARER_TOKEN, count=100):\n",
        "    if not server_url:\n",
        "        raise ValueError('FHIR_SERVER_URL not configured')\n",
        "    headers = {'Accept': 'application/fhir+json'}\n",
        "    if token:\n",
        "        headers['Authorization'] = f'Bearer {token}'\n",
        "    params = {'patient': patient_id, '_count': count}\n",
        "    resp = requests.get(f'{server_url}/Observation', headers=headers, params=params, timeout=10)\n",
        "    resp.raise_for_status()\n",
        "    bundle = resp.json()\n",
        "    entries = bundle.get('entry', [])\n",
        "    observations = [e['resource'] for e in entries]\n",
        "    return observations\n",
        "\n",
        "\n",
        "def parse_observations_to_features(observations, default_features=FEATURE_NAMES):\n",
        "    feat = {f: np.nan for f in default_features}\n",
        "    for obs in observations:\n",
        "        value = None\n",
        "        if 'valueQuantity' in obs:\n",
        "            value = obs['valueQuantity'].get('value')\n",
        "        # attempt to map by code or display; here we expect code like 'marker_1' in coding\n",
        "        try:\n",
        "            coding = obs.get('code', {}).get('coding', [])\n",
        "            if coding:\n",
        "                code = coding[0].get('code') or coding[0].get('display')\n",
        "            else:\n",
        "                code = None\n",
        "        except Exception:\n",
        "            code = None\n",
        "        # naive mapping: if code matches a marker name, use it\n",
        "        if code and code in feat:\n",
        "            try:\n",
        "                feat[code] = float(value)\n",
        "            except Exception:\n",
        "                pass\n",
        "    return feat\n"
      ]
    },
    {
      "cell_type": "code",
      "execution_count": null,
      "id": "7b31f3fe",
      "metadata": {
        "colab": {
          "base_uri": "https://localhost:8080/"
        },
        "id": "7b31f3fe",
        "outputId": "1aa64989-4b1a-4c8d-9ac1-c85dc8c9f067"
      },
      "outputs": [
        {
          "output_type": "stream",
          "name": "stdout",
          "text": [
            "Generating synthetic dataset (10,000 patients, 15 features)\n",
            "Synthetic df shape: (10000, 16)\n"
          ]
        }
      ],
      "source": [
        "USE_FHIR = bool(FHIR_SERVER_URL)\n",
        "\n",
        "if USE_FHIR:\n",
        "    try:\n",
        "        headers = {'Accept': 'application/fhir+json'}\n",
        "        if FHIR_BEARER_TOKEN:\n",
        "            headers['Authorization'] = f'Bearer {FHIR_BEARER_TOKEN}'\n",
        "        resp = requests.get(f'{FHIR_SERVER_URL}/Patient?_count=50', headers=headers, timeout=10)\n",
        "        resp.raise_for_status()\n",
        "        bundle = resp.json()\n",
        "        patient_entries = bundle.get('entry', [])\n",
        "        patient_ids = [p['resource']['id'] for p in patient_entries]\n",
        "        records = []\n",
        "        for pid in patient_ids:\n",
        "            obs = fetch_observations_for_patient(pid)\n",
        "            features = parse_observations_to_features(obs)\n",
        "            features['patient_id'] = pid\n",
        "            records.append(features)\n",
        "        df = pd.DataFrame(records)\n",
        "        print('Dataframe from FHIR shape:', df.shape)\n",
        "    except Exception as e:\n",
        "        print('FHIR fetch failed; falling back to synthetic dataset. Exception:', e)\n",
        "        USE_FHIR = False\n",
        "\n",
        "if not USE_FHIR:\n",
        "    print('Generating synthetic dataset (10,000 patients, 15 features)')\n",
        "    N = 10000\n",
        "    n_features = 15\n",
        "    X = np.random.normal(loc=0.5, scale=0.15, size=(N, n_features))\n",
        "    X = np.clip(X, 0, 1)\n",
        "    y = np.array([0]*3000 + [1]*2500 + [2]*4500)\n",
        "    perm = np.random.permutation(N)\n",
        "    X = X[perm]\n",
        "    y = y[perm]\n",
        "    df = pd.DataFrame(X, columns=[f'marker_{i+1}' for i in range(n_features)])\n",
        "    df['label'] = y\n",
        "    print('Synthetic df shape:', df.shape)\n"
      ]
    },
    {
      "cell_type": "code",
      "execution_count": null,
      "id": "f04dc4fa",
      "metadata": {
        "colab": {
          "base_uri": "https://localhost:8080/"
        },
        "id": "f04dc4fa",
        "outputId": "4b217154-4404-45dc-b05b-e706eed293d7"
      },
      "outputs": [
        {
          "output_type": "stream",
          "name": "stdout",
          "text": [
            "Feature cols: ['marker_1', 'marker_2', 'marker_3', 'marker_4', 'marker_5']\n",
            "Splits: (7000, 16) (1500, 16) (1500, 16)\n"
          ]
        }
      ],
      "source": [
        "feature_cols = [c for c in df.columns if c.startswith('marker_')]\n",
        "print('Feature cols:', feature_cols[:5])\n",
        "\n",
        "# Impute missing values with median\n",
        "imp = SimpleImputer(strategy='median')\n",
        "df[feature_cols] = imp.fit_transform(df[feature_cols])\n",
        "\n",
        "# Splits\n",
        "train_df, test_df = train_test_split(df, test_size=0.15, stratify=df['label'], random_state=RANDOM_STATE)\n",
        "train_df, val_df = train_test_split(train_df, test_size=0.17647, stratify=train_df['label'], random_state=RANDOM_STATE)\n",
        "print('Splits:', train_df.shape, val_df.shape, test_df.shape)\n"
      ]
    },
    {
      "cell_type": "code",
      "execution_count": null,
      "id": "ca804753",
      "metadata": {
        "colab": {
          "base_uri": "https://localhost:8080/"
        },
        "id": "ca804753",
        "outputId": "1df0572c-9f3c-43dc-e58f-8107bec24fde"
      },
      "outputs": [
        {
          "output_type": "stream",
          "name": "stdout",
          "text": [
            "Train class dist: Counter({np.int64(2): 3150, np.int64(0): 2100, np.int64(1): 1750})\n"
          ]
        }
      ],
      "source": [
        "from collections import Counter\n",
        "class_weight = {0:10, 1:10, 2:1}\n",
        "X_train = train_df[feature_cols].values\n",
        "y_train = train_df['label'].values\n",
        "X_val = val_df[feature_cols].values\n",
        "y_val = val_df['label'].values\n",
        "X_test = test_df[feature_cols].values\n",
        "y_test = test_df['label'].values\n",
        "print('Train class dist:', Counter(y_train))\n"
      ]
    },
    {
      "cell_type": "code",
      "execution_count": null,
      "id": "b3b1f124",
      "metadata": {
        "colab": {
          "base_uri": "https://localhost:8080/"
        },
        "id": "b3b1f124",
        "outputId": "0d2ed2bf-bf22-460b-c624-bdbc73185c76"
      },
      "outputs": [
        {
          "output_type": "stream",
          "name": "stdout",
          "text": [
            "Validation report:\n",
            "              precision    recall  f1-score   support\n",
            "\n",
            "           0     0.3198    0.7889    0.4551       450\n",
            "           1     0.2487    0.2587    0.2536       375\n",
            "           2     0.0000    0.0000    0.0000       675\n",
            "\n",
            "    accuracy                         0.3013      1500\n",
            "   macro avg     0.1895    0.3492    0.2362      1500\n",
            "weighted avg     0.1581    0.3013    0.1999      1500\n",
            "\n",
            "Confusion matrix:\n",
            " [[355  95   0]\n",
            " [278  97   0]\n",
            " [477 198   0]]\n",
            "\n",
            "Sample rules:\n",
            " |--- marker_12 <= 0.35\n",
            "|   |--- marker_14 <= 0.47\n",
            "|   |   |--- marker_11 <= 0.46\n",
            "|   |   |   |--- marker_10 <= 0.57\n",
            "|   |   |   |   |--- marker_11 <= 0.35\n",
            "|   |   |   |   |   |--- class: 0\n",
            "|   |   |   |   |--- marker_11 >  0.35\n",
            "|   |   |   |   |   |--- class: 0\n",
            "|   |   |   |--- marker_10 >  0.57\n",
            "|   |   |   |   |--- class: 1\n",
            "|   |   |--- marker_11 >  0.46\n",
            "|   |   |   |--- marker_3 <= 0.57\n",
            "|   |   |   |   |--- marker_3 <= 0.38\n",
            "|   |   |   |   |   |--- class: 1\n",
            "|   |   |   |   |--- marker_3 >  0.38\n",
            "|   |   |   |   |   |--- marker_4 <= 0.55\n",
            "|   |   |   |   |   |   |--- class: 1\n",
            "|   |   |   |   |   |--- marker_4 >  0.55\n",
            "|   |   |   |   |   |   |--- class: 1\n",
            "|   |   |   |--- marker_3 >  0.57\n",
            "|   |   |   |   |--- class: 0\n",
            "|   |--- marker_14 >  0.47\n",
            "|   |   |--- marker_15 <= 0.46\n",
            "|   |   |   |--- marker_8 <= 0.52\n",
            "|   |   |   |   |--- marker_8 <= 0.40\n",
            "|   |   |   |   |   |--- class: 1\n",
            "|   |   |   |   |--- marker_8 >  0.40\n",
            "|   |   |   |   |   |--- class: 1\n",
            "|   |   |   |--- marker_8 >  0.52\n",
            "|   |   |   |   |--- marker_10 <= 0.49\n"
          ]
        },
        {
          "output_type": "stream",
          "name": "stderr",
          "text": [
            "/usr/local/lib/python3.12/dist-packages/sklearn/metrics/_classification.py:1565: UndefinedMetricWarning: Precision is ill-defined and being set to 0.0 in labels with no predicted samples. Use `zero_division` parameter to control this behavior.\n",
            "  _warn_prf(average, modifier, f\"{metric.capitalize()} is\", len(result))\n",
            "/usr/local/lib/python3.12/dist-packages/sklearn/metrics/_classification.py:1565: UndefinedMetricWarning: Precision is ill-defined and being set to 0.0 in labels with no predicted samples. Use `zero_division` parameter to control this behavior.\n",
            "  _warn_prf(average, modifier, f\"{metric.capitalize()} is\", len(result))\n",
            "/usr/local/lib/python3.12/dist-packages/sklearn/metrics/_classification.py:1565: UndefinedMetricWarning: Precision is ill-defined and being set to 0.0 in labels with no predicted samples. Use `zero_division` parameter to control this behavior.\n",
            "  _warn_prf(average, modifier, f\"{metric.capitalize()} is\", len(result))\n"
          ]
        }
      ],
      "source": [
        "clf = DecisionTreeClassifier(random_state=RANDOM_STATE, criterion='gini', max_depth=6, min_samples_leaf=50, max_leaf_nodes=64, class_weight=class_weight)\n",
        "clf.fit(X_train, y_train)\n",
        "\n",
        "print('Validation report:')\n",
        "y_val_pred = clf.predict(X_val)\n",
        "print(classification_report(y_val, y_val_pred, digits=4))\n",
        "print('Confusion matrix:\\n', confusion_matrix(y_val, y_val_pred))\n",
        "\n",
        "rules = export_text(clf, feature_names=feature_cols)\n",
        "print('\\nSample rules:\\n', '\\n'.join(rules.split('\\n')[:30]))\n"
      ]
    },
    {
      "cell_type": "code",
      "execution_count": null,
      "id": "8cf63cd8",
      "metadata": {
        "colab": {
          "base_uri": "https://localhost:8080/"
        },
        "id": "8cf63cd8",
        "outputId": "f4681b93-ab76-4643-d658-ecd9f5b43cc7"
      },
      "outputs": [
        {
          "output_type": "stream",
          "name": "stdout",
          "text": [
            "Saved models/decision_tree_model.joblib and models/tree_structure.json\n"
          ]
        }
      ],
      "source": [
        "# Save model and tree JSON\n",
        "os.makedirs('models', exist_ok=True)\n",
        "joblib.dump({'model': clf, 'feature_cols': feature_cols}, 'models/decision_tree_model.joblib')\n",
        "\n",
        "# Convert to JSON structure\n",
        "from sklearn.tree import _tree\n",
        "\n",
        "def tree_to_dict(tree, feature_names):\n",
        "    tree_ = tree.tree_\n",
        "    feature_name = [feature_names[i] if i != _tree.TREE_UNDEFINED else 'undefined!' for i in tree_.feature]\n",
        "    def recurse(node):\n",
        "        if tree_.feature[node] != _tree.TREE_UNDEFINED:\n",
        "            name = feature_name[node]\n",
        "            threshold = tree_.threshold[node]\n",
        "            return {'feature': name, 'threshold': float(threshold), 'left': recurse(tree_.children_left[node]), 'right': recurse(tree_.children_right[node])}\n",
        "        else:\n",
        "            value = tree_.value[node][0].tolist()\n",
        "            predicted = int(np.argmax(value))\n",
        "            return {'leaf': True, 'value': value, 'predicted_class': predicted}\n",
        "    return recurse(0)\n",
        "\n",
        "tree_json = tree_to_dict(clf, feature_cols)\n",
        "with open('models/tree_structure.json', 'w') as f:\n",
        "    json.dump(tree_json, f, indent=2)\n",
        "print('Saved models/decision_tree_model.joblib and models/tree_structure.json')\n"
      ]
    },
    {
      "cell_type": "code",
      "execution_count": null,
      "id": "40906244",
      "metadata": {
        "colab": {
          "base_uri": "https://localhost:8080/"
        },
        "id": "40906244",
        "outputId": "49ecddd3-0f3d-42da-cf02-cf544e5944d1"
      },
      "outputs": [
        {
          "output_type": "stream",
          "name": "stdout",
          "text": [
            "clf predict: 0\n",
            "json predict: 0\n"
          ]
        }
      ],
      "source": [
        "# Provide a simple pure-Python inference using tree JSON for mobile porting\n",
        "def predict_with_tree_json(x_dict, tree_dict):\n",
        "    node = tree_dict\n",
        "    while True:\n",
        "        if 'leaf' in node and node['leaf']:\n",
        "            return node['predicted_class']\n",
        "        feat = node['feature']\n",
        "        thr = node['threshold']\n",
        "        val = x_dict.get(feat, 0.0)\n",
        "        if val <= thr:\n",
        "            node = node['left']\n",
        "        else:\n",
        "            node = node['right']\n",
        "\n",
        "# Test\n",
        "x0 = {feat: float(X_test[0, i]) for i, feat in enumerate(feature_cols)}\n",
        "print('clf predict:', int(clf.predict([X_test[0]])[0]))\n",
        "print('json predict:', predict_with_tree_json(x0, tree_json))\n"
      ]
    }
  ],
  "metadata": {
    "colab": {
      "provenance": [],
      "include_colab_link": true
    },
    "language_info": {
      "name": "python"
    },
    "kernelspec": {
      "name": "python3",
      "display_name": "Python 3"
    }
  },
  "nbformat": 4,
  "nbformat_minor": 5
}