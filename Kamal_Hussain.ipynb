{
  "cells": [
    {
      "cell_type": "markdown",
      "metadata": {
        "id": "view-in-github",
        "colab_type": "text"
      },
      "source": [
        "<a href=\"https://colab.research.google.com/github/KAMAL0657/KAMAL-HUSSAIN/blob/main/Kamal_Hussain.ipynb\" target=\"_parent\"><img src=\"https://colab.research.google.com/assets/colab-badge.svg\" alt=\"Open In Colab\"/></a>"
      ]
    },
    {
      "cell_type": "markdown",
      "id": "955168be",
      "metadata": {
        "id": "955168be"
      },
      "source": [
        "# Kamal Hussain — Python Assignment\n",
        "\n",
        "**File:** `Kamal_Hussain_Python_Assignment.ipynb`\n",
        "\n",
        "**Contents:** PCA, Imbalanced Classification, Feature Engineering, ML Workflow.\n",
        "\n"
      ]
    },
    {
      "cell_type": "code",
      "execution_count": 40,
      "id": "ea0e8ce0",
      "metadata": {
        "colab": {
          "base_uri": "https://localhost:8080/"
        },
        "id": "ea0e8ce0",
        "outputId": "611b79b3-e079-4f6c-ad4e-e4f1bd25ca8b"
      },
      "outputs": [
        {
          "output_type": "stream",
          "name": "stdout",
          "text": [
            "Run this cell only if packages are missing in your environment.\n"
          ]
        }
      ],
      "source": [
        "# Install required packages (uncomment if running in Colab)\n",
        "# !pip install imbalanced-learn scikit-learn pandas matplotlib seaborn nbformat\n",
        "\n",
        "print(\"Run this cell only if packages are missing in your environment.\")"
      ]
    },
    {
      "cell_type": "markdown",
      "id": "81ae70cc",
      "metadata": {
        "id": "81ae70cc"
      },
      "source": [
        "# Part A — Principal Component Analysis (10 Questions)\n",
        "\n",
        "Datasets used: synthetic (numpy), Iris (sklearn), Titanic (seaborn), blobs/moons (sklearn)."
      ]
    },
    {
      "cell_type": "markdown",
      "id": "c2cbe4eb",
      "metadata": {
        "id": "c2cbe4eb"
      },
      "source": [
        "### A1. Center data and compute covariance matrix (NumPy)\n",
        "**Theory:** Centering subtracts the mean per feature; covariance shows how features vary together.\n",
        "\n",
        "**Code:** Create a synthetic 2D dataset and compute mean-centered covariance matrix."
      ]
    },
    {
      "cell_type": "code",
      "execution_count": 41,
      "id": "c44e14d6",
      "metadata": {
        "colab": {
          "base_uri": "https://localhost:8080/"
        },
        "id": "c44e14d6",
        "outputId": "3185d630-b90d-4b28-e680-bc855f8bcc26"
      },
      "outputs": [
        {
          "output_type": "execute_result",
          "data": {
            "text/plain": [
              "(array([ 0.99808464, -0.92861067]),\n",
              " array([[ 4.21978966, -0.02517201],\n",
              "        [-0.02517201,  0.26057599]]),\n",
              " array([[ 4.21978966, -0.02517201],\n",
              "        [-0.02517201,  0.26057599]]))"
            ]
          },
          "metadata": {},
          "execution_count": 41
        }
      ],
      "source": [
        "import numpy as np\n",
        "\n",
        "# Synthetic 2D dataset\n",
        "np.random.seed(0)\n",
        "X = np.random.randn(100,2) * [2.0, 0.5] + [1.0, -1.0]\n",
        "\n",
        "# Centering\n",
        "X_mean = X.mean(axis=0)\n",
        "X_centered = X - X_mean\n",
        "\n",
        "# Covariance (manual and numpy)\n",
        "cov_manual = (X_centered.T @ X_centered) / (X_centered.shape[0] - 1)\n",
        "cov_numpy = np.cov(X, rowvar=False)\n",
        "\n",
        "X_mean, cov_manual, cov_numpy"
      ]
    },
    {
      "cell_type": "markdown",
      "id": "a00a39e9",
      "metadata": {
        "id": "a00a39e9"
      },
      "source": [
        "### A2. Extract eigenvalues and eigenvectors manually\n",
        "Compute eigen-decomposition of the covariance matrix and sort components."
      ]
    },
    {
      "cell_type": "code",
      "execution_count": 42,
      "id": "02fed2d5",
      "metadata": {
        "colab": {
          "base_uri": "https://localhost:8080/"
        },
        "id": "02fed2d5",
        "outputId": "b386b1ac-6522-4129-c875-94168f55afb5"
      },
      "outputs": [
        {
          "output_type": "execute_result",
          "data": {
            "text/plain": [
              "(array([4.21994969, 0.26041596]),\n",
              " array([[-0.99997979, -0.00635745],\n",
              "        [ 0.00635745, -0.99997979]]))"
            ]
          },
          "metadata": {},
          "execution_count": 42
        }
      ],
      "source": [
        "# Eigen-decomposition\n",
        "eigvals, eigvecs = np.linalg.eigh(cov_manual)\n",
        "\n",
        "# Sort descending\n",
        "idx = np.argsort(eigvals)[::-1]\n",
        "eigvals_sorted = eigvals[idx]\n",
        "eigvecs_sorted = eigvecs[:, idx]\n",
        "\n",
        "eigvals_sorted, eigvecs_sorted"
      ]
    },
    {
      "cell_type": "markdown",
      "id": "e374131a",
      "metadata": {
        "id": "e374131a"
      },
      "source": [
        "### A3. Implement PCA from scratch (eigen-decomposition) on a synthetic 3D dataset\n",
        "**Output:** project to 2D and reconstruct back using top 2 components."
      ]
    },
    {
      "cell_type": "code",
      "execution_count": 43,
      "id": "656d9166",
      "metadata": {
        "colab": {
          "base_uri": "https://localhost:8080/"
        },
        "id": "656d9166",
        "outputId": "278d93b7-836d-4357-f180-4a63e137bb4b"
      },
      "outputs": [
        {
          "output_type": "execute_result",
          "data": {
            "text/plain": [
              "((200, 2), (200, 3))"
            ]
          },
          "metadata": {},
          "execution_count": 43
        }
      ],
      "source": [
        "# Synthetic 3D dataset\n",
        "np.random.seed(1)\n",
        "X3 = np.random.randn(200,3) @ np.array([[2.0,0.3,0.2],[0.3,1.5,0.4],[0.2,0.4,0.8]]) + [0.5, -0.2, 1.0]\n",
        "\n",
        "# Center\n",
        "mu3 = X3.mean(axis=0)\n",
        "X3c = X3 - mu3\n",
        "cov3 = np.cov(X3c, rowvar=False)\n",
        "\n",
        "# Eigendecomp\n",
        "w3, v3 = np.linalg.eigh(cov3)\n",
        "idx3 = np.argsort(w3)[::-1]\n",
        "w3 = w3[idx3]\n",
        "v3 = v3[:, idx3]\n",
        "\n",
        "# Project to 2D (top 2)\n",
        "W2 = v3[:, :2]\n",
        "X3_proj = X3c @ W2\n",
        "\n",
        "# Reconstruct from top2\n",
        "X3_recon = X3_proj @ W2.T + mu3\n",
        "\n",
        "X3_proj.shape, X3_recon.shape"
      ]
    },
    {
      "cell_type": "markdown",
      "id": "7630ac4c",
      "metadata": {
        "id": "7630ac4c"
      },
      "source": [
        "### A4. Use scikit-learn PCA to reduce Iris to 2D and plot\n",
        "Load Iris from sklearn and plot species in 2D PCA space."
      ]
    },
    {
      "cell_type": "code",
      "execution_count": 44,
      "id": "b7589401",
      "metadata": {
        "colab": {
          "base_uri": "https://localhost:8080/",
          "height": 410
        },
        "id": "b7589401",
        "outputId": "43b8af41-f39f-4450-b7c3-de84ed2e9c16"
      },
      "outputs": [
        {
          "output_type": "display_data",
          "data": {
            "text/plain": [
              "<Figure size 600x400 with 1 Axes>"
            ],
            "image/png": "[encoded data removed]"
          },
          "metadata": {}
        }
      ],
      "source": [
        "from sklearn import datasets\n",
        "from sklearn.decomposition import PCA\n",
        "import pandas as pd\n",
        "\n",
        "iris = datasets.load_iris(as_frame=True)\n",
        "X_iris = iris.data\n",
        "y_iris = iris.target\n",
        "species = iris.target_names\n",
        "\n",
        "pca = PCA(n_components=2)\n",
        "X_iris_p = pca.fit_transform(X_iris)\n",
        "\n",
        "import matplotlib.pyplot as plt\n",
        "plt.figure(figsize=(6,4))\n",
        "for t,label in enumerate(species):\n",
        "    mask = (y_iris == t)\n",
        "    plt.scatter(X_iris_p[mask,0], X_iris_p[mask,1], label=label, alpha=0.7)\n",
        "plt.xlabel('PC1'); plt.ylabel('PC2'); plt.legend(); plt.title('Iris projected to 2D PCA'); plt.grid(True)"
      ]
    },
    {
      "cell_type": "markdown",
      "id": "97d44618",
      "metadata": {
        "id": "97d44618"
      },
      "source": [
        "### A5. Explained variance ratio (Iris)\n",
        "Compute variance ratio and cumulative variance."
      ]
    },
    {
      "cell_type": "code",
      "execution_count": 45,
      "id": "da694e47",
      "metadata": {
        "colab": {
          "base_uri": "https://localhost:8080/"
        },
        "id": "da694e47",
        "outputId": "954f7e7c-f2ae-4b61-a8ed-0a81df021cf8"
      },
      "outputs": [
        {
          "output_type": "execute_result",
          "data": {
            "text/plain": [
              "(array([0.92461872, 0.05306648]), array([0.92461872, 0.97768521]))"
            ]
          },
          "metadata": {},
          "execution_count": 45
        }
      ],
      "source": [
        "explained = pca.explained_variance_ratio_\n",
        "explained, explained.cumsum()"
      ]
    },
    {
      "cell_type": "markdown",
      "id": "1f7e60a8",
      "metadata": {
        "id": "1f7e60a8"
      },
      "source": [
        "### A6/A8. Visualize projections (done) and reconstruct from subset of principal components\n",
        "Reconstruct Iris data using top 2 components and report reconstruction error."
      ]
    },
    {
      "cell_type": "code",
      "execution_count": 46,
      "id": "bcae41b0",
      "metadata": {
        "colab": {
          "base_uri": "https://localhost:8080/"
        },
        "id": "bcae41b0",
        "outputId": "2a6fc0c1-c529-4978-dd9d-34c3e428036a"
      },
      "outputs": [
        {
          "output_type": "execute_result",
          "data": {
            "text/plain": [
              "np.float64(0.02534107393239825)"
            ]
          },
          "metadata": {},
          "execution_count": 46
        }
      ],
      "source": [
        "# Reconstruct from PCA components\n",
        "X_iris_rec = pca.inverse_transform(X_iris_p)\n",
        "mse_recon = ((X_iris - X_iris_rec)**2).mean().mean()\n",
        "mse_recon"
      ]
    },
    {
      "cell_type": "markdown",
      "id": "62733f30",
      "metadata": {
        "id": "62733f30"
      },
      "source": [
        "### A7. Apply PCA on Titanic-like dataset and assess variance captured\n",
        "Load titanic from seaborn, preprocess numeric columns and run PCA."
      ]
    },
    {
      "cell_type": "code",
      "execution_count": 47,
      "id": "585dc3a7",
      "metadata": {
        "colab": {
          "base_uri": "https://localhost:8080/"
        },
        "id": "585dc3a7",
        "outputId": "d77d64c0-26f2-4983-afc7-506fa9035235"
      },
      "outputs": [
        {
          "output_type": "execute_result",
          "data": {
            "text/plain": [
              "(array([0.3380521 , 0.32598107, 0.14491373, 0.11601936, 0.07503374]),\n",
              " array([0.3380521 , 0.66403317, 0.8089469 , 0.92496626, 1.        ]))"
            ]
          },
          "metadata": {},
          "execution_count": 47
        }
      ],
      "source": [
        "import seaborn as sns\n",
        "titanic = sns.load_dataset('titanic')\n",
        "titanic_num = titanic.select_dtypes(include=[np.number]).drop(columns=['survived'], errors='ignore').dropna(axis=1, how='all')\n",
        "titanic_num = titanic_num.fillna(titanic_num.mean())\n",
        "\n",
        "from sklearn.preprocessing import StandardScaler\n",
        "sc = StandardScaler()\n",
        "titanic_scaled = sc.fit_transform(titanic_num)\n",
        "\n",
        "pca_t = PCA(n_components=min(titanic_scaled.shape[1], 5))\n",
        "pca_t.fit(titanic_scaled)\n",
        "pca_t.explained_variance_ratio_, pca_t.explained_variance_ratio_.cumsum()"
      ]
    },
    {
      "cell_type": "markdown",
      "id": "012200d0",
      "metadata": {
        "id": "012200d0"
      },
      "source": [
        "### A9. Combine PCA with K-Means clustering (make_blobs)\n",
        "Reduce to 2D using PCA and run KMeans; plot clusters vs true blobs."
      ]
    },
    {
      "cell_type": "code",
      "execution_count": 48,
      "id": "879e1314",
      "metadata": {
        "colab": {
          "base_uri": "https://localhost:8080/",
          "height": 427
        },
        "id": "879e1314",
        "outputId": "c707c8ef-ff11-4060-f191-1db3acaa4be1"
      },
      "outputs": [
        {
          "output_type": "execute_result",
          "data": {
            "text/plain": [
              "Text(0, 0.5, 'PC2')"
            ]
          },
          "metadata": {},
          "execution_count": 48
        },
        {
          "output_type": "display_data",
          "data": {
            "text/plain": [
              "<Figure size 600x400 with 1 Axes>"
            ],
            "image/png": "[encoded data removed]"
          },
          "metadata": {}
        }
      ],
      "source": [
        "from sklearn.datasets import make_blobs\n",
        "from sklearn.cluster import KMeans\n",
        "\n",
        "Xb, yb = make_blobs(n_samples=300, centers=4, random_state=42)\n",
        "pca_blob = PCA(n_components=2).fit_transform(Xb)\n",
        "km = KMeans(n_clusters=4, random_state=42).fit(pca_blob)\n",
        "plt.figure(figsize=(6,4))\n",
        "plt.scatter(pca_blob[:,0], pca_blob[:,1], c=km.labels_, cmap='tab10', alpha=0.7)\n",
        "plt.title('KMeans on PCA-reduced blobs'); plt.xlabel('PC1'); plt.ylabel('PC2')"
      ]
    },
    {
      "cell_type": "markdown",
      "id": "c7c8ce99",
      "metadata": {
        "id": "c7c8ce99"
      },
      "source": [
        "### A10. Kernel PCA (RBF) on moons dataset\n",
        "Use sklearn's KernelPCA to separate non-linear structure."
      ]
    },
    {
      "cell_type": "code",
      "execution_count": 49,
      "id": "9a9287e8",
      "metadata": {
        "colab": {
          "base_uri": "https://localhost:8080/",
          "height": 427
        },
        "id": "9a9287e8",
        "outputId": "455bcd7a-798b-4288-d0eb-bf40893b8112"
      },
      "outputs": [
        {
          "output_type": "execute_result",
          "data": {
            "text/plain": [
              "Text(0, 0.5, 'KPC2')"
            ]
          },
          "metadata": {},
          "execution_count": 49
        },
        {
          "output_type": "display_data",
          "data": {
            "text/plain": [
              "<Figure size 600x400 with 1 Axes>"
            ],
            "image/png": "[encoded data removed]"
          },
          "metadata": {}
        }
      ],
      "source": [
        "from sklearn.datasets import make_moons\n",
        "from sklearn.decomposition import KernelPCA\n",
        "\n",
        "Xm, ym = make_moons(n_samples=300, noise=0.08, random_state=0)\n",
        "kpca = KernelPCA(n_components=2, kernel='rbf', gamma=15)\n",
        "Xm_k = kpca.fit_transform(Xm)\n",
        "\n",
        "plt.figure(figsize=(6,4))\n",
        "plt.scatter(Xm_k[:,0], Xm_k[:,1], c=ym, alpha=0.7)\n",
        "plt.title('Kernel PCA (RBF) on moons'); plt.xlabel('KPC1'); plt.ylabel('KPC2')"
      ]
    },
    {
      "cell_type": "markdown",
      "id": "0f1807d8",
      "metadata": {
        "id": "0f1807d8"
      },
      "source": [
        "# Part B — Handling Imbalanced Classification (10 Questions)\n",
        "\n",
        "Datasets: synthetic imbalanced (make_classification), Bank Churn (placeholder)."
      ]
    },
    {
      "cell_type": "markdown",
      "id": "6660c681",
      "metadata": {
        "id": "6660c681"
      },
      "source": [
        "### B1. Create a synthetic imbalanced dataset"
      ]
    },
    {
      "cell_type": "code",
      "execution_count": 50,
      "id": "8a05eba0",
      "metadata": {
        "colab": {
          "base_uri": "https://localhost:8080/"
        },
        "id": "8a05eba0",
        "outputId": "baf22752-c92a-4b2a-ed6c-4a8cff7cd76f"
      },
      "outputs": [
        {
          "output_type": "execute_result",
          "data": {
            "text/plain": [
              "array([1800,  200])"
            ]
          },
          "metadata": {},
          "execution_count": 50
        }
      ],
      "source": [
        "from sklearn.datasets import make_classification\n",
        "X_imb, y_imb = make_classification(n_samples=2000, n_features=10, n_informative=3, n_redundant=2,\n",
        "                                   n_clusters_per_class=1, weights=[0.9,0.1], flip_y=0, random_state=42)\n",
        "\n",
        "import numpy as np\n",
        "np.bincount(y_imb)"
      ]
    },
    {
      "cell_type": "markdown",
      "id": "dfc80e6b",
      "metadata": {
        "id": "dfc80e6b"
      },
      "source": [
        "### B2. Baseline accuracy vs precision/recall\n",
        "Train a dummy classifier or logistic regression and compare metrics."
      ]
    },
    {
      "cell_type": "code",
      "execution_count": 51,
      "id": "7697e111",
      "metadata": {
        "colab": {
          "base_uri": "https://localhost:8080/"
        },
        "id": "7697e111",
        "outputId": "5b0b08b3-d9b8-4f2b-d719-db4c36c5399a"
      },
      "outputs": [
        {
          "output_type": "execute_result",
          "data": {
            "text/plain": [
              "(0.9083333333333333,\n",
              " 0.5538461538461539,\n",
              " 0.5806451612903226,\n",
              " 0.5669291338582677)"
            ]
          },
          "metadata": {},
          "execution_count": 51
        }
      ],
      "source": [
        "from sklearn.model_selection import train_test_split\n",
        "from sklearn.linear_model import LogisticRegression\n",
        "from sklearn.metrics import accuracy_score, precision_score, recall_score, f1_score\n",
        "\n",
        "Xtr, Xte, ytr, yte = train_test_split(X_imb, y_imb, test_size=0.3, random_state=0)\n",
        "clf = LogisticRegression(max_iter=1000).fit(Xtr, ytr)\n",
        "yhat = clf.predict(Xte)\n",
        "\n",
        "accuracy_score(yte, yhat), precision_score(yte, yhat), recall_score(yte, yhat), f1_score(yte, yhat)"
      ]
    },
    {
      "cell_type": "markdown",
      "id": "fbc3e0c9",
      "metadata": {
        "id": "fbc3e0c9"
      },
      "source": [
        "### B3. Random undersampling\n",
        "Use imbalanced-learn RandomUnderSampler (if available) or manual undersample."
      ]
    },
    {
      "cell_type": "code",
      "execution_count": 52,
      "id": "9aba964a",
      "metadata": {
        "colab": {
          "base_uri": "https://localhost:8080/"
        },
        "id": "9aba964a",
        "outputId": "62a7a673-2ffb-4f52-9b09-f86ebab18279"
      },
      "outputs": [
        {
          "output_type": "execute_result",
          "data": {
            "text/plain": [
              "(0.8816666666666667, 0.46616541353383456, 1.0, 0.6358974358974359)"
            ]
          },
          "metadata": {},
          "execution_count": 52
        }
      ],
      "source": [
        "# Simple manual undersampling of majority class\n",
        "from collections import Counter\n",
        "from sklearn.utils import resample\n",
        "\n",
        "X = Xtr.copy(); y = ytr.copy()\n",
        "# combine\n",
        "import numpy as np\n",
        "data = np.hstack([X, y.reshape(-1,1)])\n",
        "maj = data[y==0]\n",
        "minr = data[y==1]\n",
        "maj_down = resample(maj, replace=False, n_samples=len(minr), random_state=42)\n",
        "bal = np.vstack([maj_down, minr])\n",
        "X_bal = bal[:,:-1]; y_bal = bal[:,-1]\n",
        "\n",
        "clf2 = LogisticRegression(max_iter=1000).fit(X_bal, y_bal)\n",
        "yhat2 = clf2.predict(Xte)\n",
        "accuracy_score(yte, yhat2), precision_score(yte, yhat2), recall_score(yte, yhat2), f1_score(yte, yhat2)"
      ]
    },
    {
      "cell_type": "markdown",
      "id": "cdfbd954",
      "metadata": {
        "id": "cdfbd954"
      },
      "source": [
        "### B4. SMOTE oversampling (imblearn)\n",
        "If imbalanced-learn is installed, demonstrate SMOTE usage."
      ]
    },
    {
      "cell_type": "code",
      "execution_count": 53,
      "id": "80cd588f",
      "metadata": {
        "colab": {
          "base_uri": "https://localhost:8080/"
        },
        "id": "80cd588f",
        "outputId": "55813f6a-a4a2-4c2d-9740-f8be1cccc3f7"
      },
      "outputs": [
        {
          "output_type": "stream",
          "name": "stdout",
          "text": [
            "After SMOTE: [1262 1262]\n"
          ]
        }
      ],
      "source": [
        "try:\n",
        "    from imblearn.over_sampling import SMOTE\n",
        "    sm = SMOTE(random_state=42)\n",
        "    X_sm, y_sm = sm.fit_resample(Xtr, ytr)\n",
        "    print('After SMOTE:', np.bincount(y_sm))\n",
        "except Exception as e:\n",
        "    print('imblearn not installed. To use SMOTE, run: pip install imbalanced-learn')"
      ]
    },
    {
      "cell_type": "markdown",
      "id": "bef00c31",
      "metadata": {
        "id": "bef00c31"
      },
      "source": [
        "### B5. Tomek Links / ENN cleaning (concept + code if imblearn present)"
      ]
    },
    {
      "cell_type": "code",
      "execution_count": 54,
      "id": "dd7ddf5a",
      "metadata": {
        "colab": {
          "base_uri": "https://localhost:8080/"
        },
        "id": "dd7ddf5a",
        "outputId": "10b39776-a0e5-43bb-d895-167bdaef6def"
      },
      "outputs": [
        {
          "output_type": "stream",
          "name": "stdout",
          "text": [
            "After TomekLinks: [1237  138]\n"
          ]
        }
      ],
      "source": [
        "try:\n",
        "    from imblearn.under_sampling import TomekLinks\n",
        "    tl = TomekLinks()\n",
        "    X_tl, y_tl = tl.fit_resample(Xtr, ytr)\n",
        "    print('After TomekLinks:', np.bincount(y_tl))\n",
        "except Exception as e:\n",
        "    print('imblearn not available for TomekLinks')"
      ]
    },
    {
      "cell_type": "markdown",
      "id": "29752ff5",
      "metadata": {
        "id": "29752ff5"
      },
      "source": [
        "### B6. Logistic Regression on oversampled data"
      ]
    },
    {
      "cell_type": "code",
      "execution_count": 55,
      "id": "96cdd4d4",
      "metadata": {
        "id": "96cdd4d4"
      },
      "outputs": [],
      "source": [
        "if 'X_sm' in globals():\n",
        "    clf_sm = LogisticRegression(max_iter=1000).fit(X_sm, y_sm)\n",
        "    yhat_sm = clf_sm.predict(Xte)\n",
        "    accuracy_score(yte, yhat_sm), precision_score(yte, yhat_sm), recall_score(yte, yhat_sm), f1_score(yte, yhat_sm)\n",
        "else:\n",
        "    print('SMOTE not run; skip this step or install imbalanced-learn')"
      ]
    },
    {
      "cell_type": "markdown",
      "id": "c51776aa",
      "metadata": {
        "id": "c51776aa"
      },
      "source": [
        "### B7. Winsorizing outlier-prone feature (example)\n",
        "Demonstrate Winsorizing a synthetic 'salary' column."
      ]
    },
    {
      "cell_type": "code",
      "execution_count": 56,
      "id": "72e1a45a",
      "metadata": {
        "colab": {
          "base_uri": "https://localhost:8080/"
        },
        "id": "72e1a45a",
        "outputId": "ccab5866-0c99-483d-b676-c812149e5db6"
      },
      "outputs": [
        {
          "output_type": "execute_result",
          "data": {
            "text/plain": [
              "(count    5.030000e+02\n",
              " mean     8.528545e+04\n",
              " std      4.629998e+05\n",
              " min      2.781926e+04\n",
              " 25%      4.448400e+04\n",
              " 50%      4.966194e+04\n",
              " 75%      5.541337e+04\n",
              " max      7.000000e+06\n",
              " dtype: float64,\n",
              " count      503.000000\n",
              " mean     49937.355653\n",
              " std       8016.297995\n",
              " min      31696.328610\n",
              " 25%      44484.004151\n",
              " 50%      49661.942787\n",
              " 75%      55413.365320\n",
              " max      69052.481707\n",
              " dtype: float64)"
            ]
          },
          "metadata": {},
          "execution_count": 56
        }
      ],
      "source": [
        "import pandas as pd\n",
        "np.random.seed(0)\n",
        "salary = np.concatenate([np.random.normal(50000, 8000, size=500), np.array([5e6, 6e6, 7e6])])\n",
        "s = pd.Series(salary)\n",
        "def winsorize_series(s, lower_pct=0.01, upper_pct=0.99):\n",
        "    lower = s.quantile(lower_pct)\n",
        "    upper = s.quantile(upper_pct)\n",
        "    return s.clip(lower, upper)\n",
        "\n",
        "s_w = winsorize_series(s)\n",
        "s.describe(), s_w.describe()"
      ]
    },
    {
      "cell_type": "markdown",
      "id": "0292ba9b",
      "metadata": {
        "id": "0292ba9b"
      },
      "source": [
        "### B8. Apply RobustScaler and compare distributions vs StandardScaler"
      ]
    },
    {
      "cell_type": "code",
      "execution_count": 57,
      "id": "7e755e00",
      "metadata": {
        "colab": {
          "base_uri": "https://localhost:8080/",
          "height": 331
        },
        "id": "7e755e00",
        "outputId": "89211c86-0080-4ac8-f9c8-4d10771052c9"
      },
      "outputs": [
        {
          "output_type": "execute_result",
          "data": {
            "text/plain": [
              "Text(0.5, 1.0, 'RobustScaler (salary)')"
            ]
          },
          "metadata": {},
          "execution_count": 57
        },
        {
          "output_type": "display_data",
          "data": {
            "text/plain": [
              "<Figure size 800x300 with 2 Axes>"
            ],
            "image/png": "[encoded data removed]"
          },
          "metadata": {}
        }
      ],
      "source": [
        "from sklearn.preprocessing import RobustScaler, StandardScaler\n",
        "rs = RobustScaler()\n",
        "ss = StandardScaler()\n",
        "\n",
        "s_rs = rs.fit_transform(s.values.reshape(-1,1)).flatten()\n",
        "s_ss = ss.fit_transform(s.values.reshape(-1,1)).flatten()\n",
        "import matplotlib.pyplot as plt\n",
        "\n",
        "plt.figure(figsize=(8,3))\n",
        "plt.subplot(1,2,1)\n",
        "plt.hist(s_ss, bins=30); plt.title('StandardScaler (salary)')\n",
        "plt.subplot(1,2,2)\n",
        "plt.hist(s_rs, bins=30); plt.title('RobustScaler (salary)')"
      ]
    },
    {
      "cell_type": "markdown",
      "id": "8283f625",
      "metadata": {
        "id": "8283f625"
      },
      "source": [
        "### B9. Manual F1-score function"
      ]
    },
    {
      "cell_type": "code",
      "execution_count": 58,
      "id": "eb8b1e1c",
      "metadata": {
        "colab": {
          "base_uri": "https://localhost:8080/"
        },
        "id": "eb8b1e1c",
        "outputId": "7a8e31a3-d948-42fa-9e0f-4193556751cf"
      },
      "outputs": [
        {
          "output_type": "execute_result",
          "data": {
            "text/plain": [
              "(np.float64(0.5669291338582677), 0.5669291338582677)"
            ]
          },
          "metadata": {},
          "execution_count": 58
        }
      ],
      "source": [
        "def manual_f1(y_true, y_pred):\n",
        "    tp = ((y_true==1) & (y_pred==1)).sum()\n",
        "    fp = ((y_true==0) & (y_pred==1)).sum()\n",
        "    fn = ((y_true==1) & (y_pred==0)).sum()\n",
        "    if tp+fp==0 or tp+fn==0:\n",
        "        return 0.0\n",
        "    prec = tp / (tp+fp)\n",
        "    rec = tp / (tp+fn)\n",
        "    if prec+rec == 0:\n",
        "        return 0.0\n",
        "    return 2*(prec*rec)/(prec+rec)\n",
        "\n",
        "# quick test\n",
        "manual_f1(yte, yhat), f1_score(yte, yhat)"
      ]
    },
    {
      "cell_type": "markdown",
      "id": "09c2f4e3",
      "metadata": {
        "id": "09c2f4e3"
      },
      "source": [
        "### B10. Pipeline: scaling + resampling + modeling\n",
        "Use sklearn pipeline; if imblearn available, use `imblearn.pipeline` for resampling step."
      ]
    },
    {
      "cell_type": "code",
      "execution_count": 59,
      "id": "8136ac21",
      "metadata": {
        "colab": {
          "base_uri": "https://localhost:8080/"
        },
        "id": "8136ac21",
        "outputId": "50923a69-e9d3-4c23-fd9b-4876e05f5205"
      },
      "outputs": [
        {
          "output_type": "execute_result",
          "data": {
            "text/plain": [
              "(0.905, 0.5409836065573771, 0.532258064516129, 0.5365853658536586)"
            ]
          },
          "metadata": {},
          "execution_count": 59
        }
      ],
      "source": [
        "from sklearn.pipeline import Pipeline\n",
        "pipe = Pipeline([('scaler', StandardScaler()), ('clf', LogisticRegression(max_iter=1000))])\n",
        "pipe.fit(Xtr, ytr)\n",
        "y_pipe = pipe.predict(Xte)\n",
        "accuracy_score(yte, y_pipe), precision_score(yte, y_pipe), recall_score(yte, y_pipe), f1_score(yte, y_pipe)"
      ]
    },
    {
      "cell_type": "markdown",
      "id": "196e962e",
      "metadata": {
        "id": "196e962e"
      },
      "source": [
        "# Part C — Feature Engineering & Preprocessing (5 Questions)\n",
        "Datasets: Titanic, Bank Churn (placeholder)."
      ]
    },
    {
      "cell_type": "markdown",
      "id": "4da1d9d8",
      "metadata": {
        "id": "4da1d9d8"
      },
      "source": [
        "### C1. Create interaction/binary features (family size, child indicator) — Titanic"
      ]
    },
    {
      "cell_type": "code",
      "execution_count": 60,
      "id": "34e8c11f",
      "metadata": {
        "colab": {
          "base_uri": "https://localhost:8080/",
          "height": 206
        },
        "id": "34e8c11f",
        "outputId": "4e793b7e-435b-4407-a08d-2a4a6e801d91"
      },
      "outputs": [
        {
          "output_type": "execute_result",
          "data": {
            "text/plain": [
              "   sibsp  parch  family_size   age  is_child\n",
              "0      1      0            2  22.0         0\n",
              "1      1      0            2  38.0         0\n",
              "2      0      0            1  26.0         0\n",
              "3      1      0            2  35.0         0\n",
              "4      0      0            1  35.0         0"
            ],
            "text/html": [
              "\n",
              "  <div id=\"df-3048121b-0bc3-48b4-9ce1-51e9f0f56fbf\" class=\"colab-df-container\">\n",
              "    <div>\n",
              "<style scoped>\n",
              "    .dataframe tbody tr th:only-of-type {\n",
              "        vertical-align: middle;\n",
              "    }\n",
              "\n",
              "    .dataframe tbody tr th {\n",
              "        vertical-align: top;\n",
              "    }\n",
              "\n",
              "    .dataframe thead th {\n",
              "        text-align: right;\n",
              "    }\n",
              "</style>\n",
              "<table border=\"1\" class=\"dataframe\">\n",
              "  <thead>\n",
              "    <tr style=\"text-align: right;\">\n",
              "      <th></th>\n",
              "      <th>sibsp</th>\n",
              "      <th>parch</th>\n",
              "      <th>family_size</th>\n",
              "      <th>age</th>\n",
              "      <th>is_child</th>\n",
              "    </tr>\n",
              "  </thead>\n",
              "  <tbody>\n",
              "    <tr>\n",
              "      <th>0</th>\n",
              "      <td>1</td>\n",
              "      <td>0</td>\n",
              "      <td>2</td>\n",
              "      <td>22.0</td>\n",
              "      <td>0</td>\n",
              "    </tr>\n",
              "    <tr>\n",
              "      <th>1</th>\n",
              "      <td>1</td>\n",
              "      <td>0</td>\n",
              "      <td>2</td>\n",
              "      <td>38.0</td>\n",
              "      <td>0</td>\n",
              "    </tr>\n",
              "    <tr>\n",
              "      <th>2</th>\n",
              "      <td>0</td>\n",
              "      <td>0</td>\n",
              "      <td>1</td>\n",
              "      <td>26.0</td>\n",
              "      <td>0</td>\n",
              "    </tr>\n",
              "    <tr>\n",
              "      <th>3</th>\n",
              "      <td>1</td>\n",
              "      <td>0</td>\n",
              "      <td>2</td>\n",
              "      <td>35.0</td>\n",
              "      <td>0</td>\n",
              "    </tr>\n",
              "    <tr>\n",
              "      <th>4</th>\n",
              "      <td>0</td>\n",
              "      <td>0</td>\n",
              "      <td>1</td>\n",
              "      <td>35.0</td>\n",
              "      <td>0</td>\n",
              "    </tr>\n",
              "  </tbody>\n",
              "</table>\n",
              "</div>\n",
              "    <div class=\"colab-df-buttons\">\n",
              "\n",
              "  <div class=\"colab-df-container\">\n",
              "    <button class=\"colab-df-convert\" onclick=\"convertToInteractive('df-3048121b-0bc3-48b4-9ce1-51e9f0f56fbf')\"\n",
              "            title=\"Convert this dataframe to an interactive table.\"\n",
              "            style=\"display:none;\">\n",
              "\n",
              "  <svg xmlns=\"http://www.w3.org/2000/svg\" height=\"24px\" viewBox=\"0 -960 960 960\">\n",
              "    <path d=\"M120-120v-720h720v720H120Zm60-500h600v-160H180v160Zm220 220h160v-160H400v160Zm0 220h160v-160H400v160ZM180-400h160v-160H180v160Zm440 0h160v-160H620v160ZM180-180h160v-160H180v160Zm440 0h160v-160H620v160Z\"/>\n",
              "  </svg>\n",
              "    </button>\n",
              "\n",
              "  <style>\n",
              "    .colab-df-container {\n",
              "      display:flex;\n",
              "      gap: 12px;\n",
              "    }\n",
              "\n",
              "    .colab-df-convert {\n",
              "      background-color: #E8F0FE;\n",
              "      border: none;\n",
              "      border-radius: 50%;\n",
              "      cursor: pointer;\n",
              "      display: none;\n",
              "      fill: #1967D2;\n",
              "      height: 32px;\n",
              "      padding: 0 0 0 0;\n",
              "      width: 32px;\n",
              "    }\n",
              "\n",
              "    .colab-df-convert:hover {\n",
              "      background-color: #E2EBFA;\n",
              "      box-shadow: 0px 1px 2px rgba(60, 64, 67, 0.3), 0px 1px 3px 1px rgba(60, 64, 67, 0.15);\n",
              "      fill: #174EA6;\n",
              "    }\n",
              "\n",
              "    .colab-df-buttons div {\n",
              "      margin-bottom: 4px;\n",
              "    }\n",
              "\n",
              "    [theme=dark] .colab-df-convert {\n",
              "      background-color: #3B4455;\n",
              "      fill: #D2E3FC;\n",
              "    }\n",
              "\n",
              "    [theme=dark] .colab-df-convert:hover {\n",
              "      background-color: #434B5C;\n",
              "      box-shadow: 0px 1px 3px 1px rgba(0, 0, 0, 0.15);\n",
              "      filter: drop-shadow(0px 1px 2px rgba(0, 0, 0, 0.3));\n",
              "      fill: #FFFFFF;\n",
              "    }\n",
              "  </style>\n",
              "\n",
              "    <script>\n",
              "      const buttonEl =\n",
              "        document.querySelector('#df-3048121b-0bc3-48b4-9ce1-51e9f0f56fbf button.colab-df-convert');\n",
              "      buttonEl.style.display =\n",
              "        google.colab.kernel.accessAllowed ? 'block' : 'none';\n",
              "\n",
              "      async function convertToInteractive(key) {\n",
              "        const element = document.querySelector('#df-3048121b-0bc3-48b4-9ce1-51e9f0f56fbf');\n",
              "        const dataTable =\n",
              "          await google.colab.kernel.invokeFunction('convertToInteractive',\n",
              "                                                    [key], {});\n",
              "        if (!dataTable) return;\n",
              "\n",
              "        const docLinkHtml = 'Like what you see? Visit the ' +\n",
              "          '<a target=\"_blank\" href=https://colab.research.google.com/notebooks/data_table.ipynb>data table notebook</a>'\n",
              "          + ' to learn more about interactive tables.';\n",
              "        element.innerHTML = '';\n",
              "        dataTable['output_type'] = 'display_data';\n",
              "        await google.colab.output.renderOutput(dataTable, element);\n",
              "        const docLink = document.createElement('div');\n",
              "        docLink.innerHTML = docLinkHtml;\n",
              "        element.appendChild(docLink);\n",
              "      }\n",
              "    </script>\n",
              "  </div>\n",
              "\n",
              "\n",
              "    <div id=\"df-7b2aa376-ac6a-438a-8a1b-91e4ab15917c\">\n",
              "      <button class=\"colab-df-quickchart\" onclick=\"quickchart('df-7b2aa376-ac6a-438a-8a1b-91e4ab15917c')\"\n",
              "                title=\"Suggest charts\"\n",
              "                style=\"display:none;\">\n",
              "\n",
              "<svg xmlns=\"http://www.w3.org/2000/svg\" height=\"24px\"viewBox=\"0 0 24 24\"\n",
              "     width=\"24px\">\n",
              "    <g>\n",
              "        <path d=\"M19 3H5c-1.1 0-2 .9-2 2v14c0 1.1.9 2 2 2h14c1.1 0 2-.9 2-2V5c0-1.1-.9-2-2-2zM9 17H7v-7h2v7zm4 0h-2V7h2v10zm4 0h-2v-4h2v4z\"/>\n",
              "    </g>\n",
              "</svg>\n",
              "      </button>\n",
              "\n",
              "<style>\n",
              "  .colab-df-quickchart {\n",
              "      --bg-color: #E8F0FE;\n",
              "      --fill-color: #1967D2;\n",
              "      --hover-bg-color: #E2EBFA;\n",
              "      --hover-fill-color: #174EA6;\n",
              "      --disabled-fill-color: #AAA;\n",
              "      --disabled-bg-color: #DDD;\n",
              "  }\n",
              "\n",
              "  [theme=dark] .colab-df-quickchart {\n",
              "      --bg-color: #3B4455;\n",
              "      --fill-color: #D2E3FC;\n",
              "      --hover-bg-color: #434B5C;\n",
              "      --hover-fill-color: #FFFFFF;\n",
              "      --disabled-bg-color: #3B4455;\n",
              "      --disabled-fill-color: #666;\n",
              "  }\n",
              "\n",
              "  .colab-df-quickchart {\n",
              "    background-color: var(--bg-color);\n",
              "    border: none;\n",
              "    border-radius: 50%;\n",
              "    cursor: pointer;\n",
              "    display: none;\n",
              "    fill: var(--fill-color);\n",
              "    height: 32px;\n",
              "    padding: 0;\n",
              "    width: 32px;\n",
              "  }\n",
              "\n",
              "  .colab-df-quickchart:hover {\n",
              "    background-color: var(--hover-bg-color);\n",
              "    box-shadow: 0 1px 2px rgba(60, 64, 67, 0.3), 0 1px 3px 1px rgba(60, 64, 67, 0.15);\n",
              "    fill: var(--button-hover-fill-color);\n",
              "  }\n",
              "\n",
              "  .colab-df-quickchart-complete:disabled,\n",
              "  .colab-df-quickchart-complete:disabled:hover {\n",
              "    background-color: var(--disabled-bg-color);\n",
              "    fill: var(--disabled-fill-color);\n",
              "    box-shadow: none;\n",
              "  }\n",
              "\n",
              "  .colab-df-spinner {\n",
              "    border: 2px solid var(--fill-color);\n",
              "    border-color: transparent;\n",
              "    border-bottom-color: var(--fill-color);\n",
              "    animation:\n",
              "      spin 1s steps(1) infinite;\n",
              "  }\n",
              "\n",
              "  @keyframes spin {\n",
              "    0% {\n",
              "      border-color: transparent;\n",
              "      border-bottom-color: var(--fill-color);\n",
              "      border-left-color: var(--fill-color);\n",
              "    }\n",
              "    20% {\n",
              "      border-color: transparent;\n",
              "      border-left-color: var(--fill-color);\n",
              "      border-top-color: var(--fill-color);\n",
              "    }\n",
              "    30% {\n",
              "      border-color: transparent;\n",
              "      border-left-color: var(--fill-color);\n",
              "      border-top-color: var(--fill-color);\n",
              "      border-right-color: var(--fill-color);\n",
              "    }\n",
              "    40% {\n",
              "      border-color: transparent;\n",
              "      border-right-color: var(--fill-color);\n",
              "      border-top-color: var(--fill-color);\n",
              "    }\n",
              "    60% {\n",
              "      border-color: transparent;\n",
              "      border-right-color: var(--fill-color);\n",
              "    }\n",
              "    80% {\n",
              "      border-color: transparent;\n",
              "      border-right-color: var(--fill-color);\n",
              "      border-bottom-color: var(--fill-color);\n",
              "    }\n",
              "    90% {\n",
              "      border-color: transparent;\n",
              "      border-bottom-color: var(--fill-color);\n",
              "    }\n",
              "  }\n",
              "</style>\n",
              "\n",
              "      <script>\n",
              "        async function quickchart(key) {\n",
              "          const quickchartButtonEl =\n",
              "            document.querySelector('#' + key + ' button');\n",
              "          quickchartButtonEl.disabled = true;  // To prevent multiple clicks.\n",
              "          quickchartButtonEl.classList.add('colab-df-spinner');\n",
              "          try {\n",
              "            const charts = await google.colab.kernel.invokeFunction(\n",
              "                'suggestCharts', [key], {});\n",
              "          } catch (error) {\n",
              "            console.error('Error during call to suggestCharts:', error);\n",
              "          }\n",
              "          quickchartButtonEl.classList.remove('colab-df-spinner');\n",
              "          quickchartButtonEl.classList.add('colab-df-quickchart-complete');\n",
              "        }\n",
              "        (() => {\n",
              "          let quickchartButtonEl =\n",
              "            document.querySelector('#df-7b2aa376-ac6a-438a-8a1b-91e4ab15917c button');\n",
              "          quickchartButtonEl.style.display =\n",
              "            google.colab.kernel.accessAllowed ? 'block' : 'none';\n",
              "        })();\n",
              "      </script>\n",
              "    </div>\n",
              "\n",
              "    </div>\n",
              "  </div>\n"
            ],
            "application/vnd.google.colaboratory.intrinsic+json": {
              "type": "dataframe",
              "summary": "{\n  \"name\": \"t[['sibsp','parch','family_size','age','is_child']]\",\n  \"rows\": 5,\n  \"fields\": [\n    {\n      \"column\": \"sibsp\",\n      \"properties\": {\n        \"dtype\": \"number\",\n        \"std\": 0,\n        \"min\": 0,\n        \"max\": 1,\n        \"num_unique_values\": 2,\n        \"samples\": [\n          0,\n          1\n        ],\n        \"semantic_type\": \"\",\n        \"description\": \"\"\n      }\n    },\n    {\n      \"column\": \"parch\",\n      \"properties\": {\n        \"dtype\": \"number\",\n        \"std\": 0,\n        \"min\": 0,\n        \"max\": 0,\n        \"num_unique_values\": 1,\n        \"samples\": [\n          0\n        ],\n        \"semantic_type\": \"\",\n        \"description\": \"\"\n      }\n    },\n    {\n      \"column\": \"family_size\",\n      \"properties\": {\n        \"dtype\": \"number\",\n        \"std\": 0,\n        \"min\": 1,\n        \"max\": 2,\n        \"num_unique_values\": 2,\n        \"samples\": [\n          1\n        ],\n        \"semantic_type\": \"\",\n        \"description\": \"\"\n      }\n    },\n    {\n      \"column\": \"age\",\n      \"properties\": {\n        \"dtype\": \"number\",\n        \"std\": 6.833739825307955,\n        \"min\": 22.0,\n        \"max\": 38.0,\n        \"num_unique_values\": 4,\n        \"samples\": [\n          38.0\n        ],\n        \"semantic_type\": \"\",\n        \"description\": \"\"\n      }\n    },\n    {\n      \"column\": \"is_child\",\n      \"properties\": {\n        \"dtype\": \"number\",\n        \"std\": 0,\n        \"min\": 0,\n        \"max\": 0,\n        \"num_unique_values\": 1,\n        \"samples\": [\n          0\n        ],\n        \"semantic_type\": \"\",\n        \"description\": \"\"\n      }\n    }\n  ]\n}"
            }
          },
          "metadata": {},
          "execution_count": 60
        }
      ],
      "source": [
        "t = titanic.copy()\n",
        "t['family_size'] = t['sibsp'].fillna(0) + t['parch'].fillna(0) + 1\n",
        "t['is_child'] = (t['age'] < 18).astype(int)\n",
        "t[['sibsp','parch','family_size','age','is_child']].head()"
      ]
    },
    {
      "cell_type": "markdown",
      "id": "b993fe34",
      "metadata": {
        "id": "b993fe34"
      },
      "source": [
        "### C2. Encoding categorical variables\n",
        "Use OneHotEncoder for embeddings or pandas.get_dummies."
      ]
    },
    {
      "cell_type": "code",
      "execution_count": 61,
      "id": "74140d45",
      "metadata": {
        "colab": {
          "base_uri": "https://localhost:8080/",
          "height": 206
        },
        "id": "74140d45",
        "outputId": "756c615d-7015-4db9-f376-1b7c877111df"
      },
      "outputs": [
        {
          "output_type": "execute_result",
          "data": {
            "text/plain": [
              "   sex_male  class_Second  class_Third  embarked_Q  embarked_S  \\\n",
              "0      True         False         True       False        True   \n",
              "1     False         False        False       False       False   \n",
              "2     False         False         True       False        True   \n",
              "3     False         False        False       False        True   \n",
              "4      True         False         True       False        True   \n",
              "\n",
              "   embarked_missing  \n",
              "0             False  \n",
              "1             False  \n",
              "2             False  \n",
              "3             False  \n",
              "4             False  "
            ],
            "text/html": [
              "\n",
              "  <div id=\"df-9f72de7d-9ae8-4969-b01a-c6ffca1361b1\" class=\"colab-df-container\">\n",
              "    <div>\n",
              "<style scoped>\n",
              "    .dataframe tbody tr th:only-of-type {\n",
              "        vertical-align: middle;\n",
              "    }\n",
              "\n",
              "    .dataframe tbody tr th {\n",
              "        vertical-align: top;\n",
              "    }\n",
              "\n",
              "    .dataframe thead th {\n",
              "        text-align: right;\n",
              "    }\n",
              "</style>\n",
              "<table border=\"1\" class=\"dataframe\">\n",
              "  <thead>\n",
              "    <tr style=\"text-align: right;\">\n",
              "      <th></th>\n",
              "      <th>sex_male</th>\n",
              "      <th>class_Second</th>\n",
              "      <th>class_Third</th>\n",
              "      <th>embarked_Q</th>\n",
              "      <th>embarked_S</th>\n",
              "      <th>embarked_missing</th>\n",
              "    </tr>\n",
              "  </thead>\n",
              "  <tbody>\n",
              "    <tr>\n",
              "      <th>0</th>\n",
              "      <td>True</td>\n",
              "      <td>False</td>\n",
              "      <td>True</td>\n",
              "      <td>False</td>\n",
              "      <td>True</td>\n",
              "      <td>False</td>\n",
              "    </tr>\n",
              "    <tr>\n",
              "      <th>1</th>\n",
              "      <td>False</td>\n",
              "      <td>False</td>\n",
              "      <td>False</td>\n",
              "      <td>False</td>\n",
              "      <td>False</td>\n",
              "      <td>False</td>\n",
              "    </tr>\n",
              "    <tr>\n",
              "      <th>2</th>\n",
              "      <td>False</td>\n",
              "      <td>False</td>\n",
              "      <td>True</td>\n",
              "      <td>False</td>\n",
              "      <td>True</td>\n",
              "      <td>False</td>\n",
              "    </tr>\n",
              "    <tr>\n",
              "      <th>3</th>\n",
              "      <td>False</td>\n",
              "      <td>False</td>\n",
              "      <td>False</td>\n",
              "      <td>False</td>\n",
              "      <td>True</td>\n",
              "      <td>False</td>\n",
              "    </tr>\n",
              "    <tr>\n",
              "      <th>4</th>\n",
              "      <td>True</td>\n",
              "      <td>False</td>\n",
              "      <td>True</td>\n",
              "      <td>False</td>\n",
              "      <td>True</td>\n",
              "      <td>False</td>\n",
              "    </tr>\n",
              "  </tbody>\n",
              "</table>\n",
              "</div>\n",
              "    <div class=\"colab-df-buttons\">\n",
              "\n",
              "  <div class=\"colab-df-container\">\n",
              "    <button class=\"colab-df-convert\" onclick=\"convertToInteractive('df-9f72de7d-9ae8-4969-b01a-c6ffca1361b1')\"\n",
              "            title=\"Convert this dataframe to an interactive table.\"\n",
              "            style=\"display:none;\">\n",
              "\n",
              "  <svg xmlns=\"http://www.w3.org/2000/svg\" height=\"24px\" viewBox=\"0 -960 960 960\">\n",
              "    <path d=\"M120-120v-720h720v720H120Zm60-500h600v-160H180v160Zm220 220h160v-160H400v160Zm0 220h160v-160H400v160ZM180-400h160v-160H180v160Zm440 0h160v-160H620v160ZM180-180h160v-160H180v160Zm440 0h160v-160H620v160Z\"/>\n",
              "  </svg>\n",
              "    </button>\n",
              "\n",
              "  <style>\n",
              "    .colab-df-container {\n",
              "      display:flex;\n",
              "      gap: 12px;\n",
              "    }\n",
              "\n",
              "    .colab-df-convert {\n",
              "      background-color: #E8F0FE;\n",
              "      border: none;\n",
              "      border-radius: 50%;\n",
              "      cursor: pointer;\n",
              "      display: none;\n",
              "      fill: #1967D2;\n",
              "      height: 32px;\n",
              "      padding: 0 0 0 0;\n",
              "      width: 32px;\n",
              "    }\n",
              "\n",
              "    .colab-df-convert:hover {\n",
              "      background-color: #E2EBFA;\n",
              "      box-shadow: 0px 1px 2px rgba(60, 64, 67, 0.3), 0px 1px 3px 1px rgba(60, 64, 67, 0.15);\n",
              "      fill: #174EA6;\n",
              "    }\n",
              "\n",
              "    .colab-df-buttons div {\n",
              "      margin-bottom: 4px;\n",
              "    }\n",
              "\n",
              "    [theme=dark] .colab-df-convert {\n",
              "      background-color: #3B4455;\n",
              "      fill: #D2E3FC;\n",
              "    }\n",
              "\n",
              "    [theme=dark] .colab-df-convert:hover {\n",
              "      background-color: #434B5C;\n",
              "      box-shadow: 0px 1px 3px 1px rgba(0, 0, 0, 0.15);\n",
              "      filter: drop-shadow(0px 1px 2px rgba(0, 0, 0, 0.3));\n",
              "      fill: #FFFFFF;\n",
              "    }\n",
              "  </style>\n",
              "\n",
              "    <script>\n",
              "      const buttonEl =\n",
              "        document.querySelector('#df-9f72de7d-9ae8-4969-b01a-c6ffca1361b1 button.colab-df-convert');\n",
              "      buttonEl.style.display =\n",
              "        google.colab.kernel.accessAllowed ? 'block' : 'none';\n",
              "\n",
              "      async function convertToInteractive(key) {\n",
              "        const element = document.querySelector('#df-9f72de7d-9ae8-4969-b01a-c6ffca1361b1');\n",
              "        const dataTable =\n",
              "          await google.colab.kernel.invokeFunction('convertToInteractive',\n",
              "                                                    [key], {});\n",
              "        if (!dataTable) return;\n",
              "\n",
              "        const docLinkHtml = 'Like what you see? Visit the ' +\n",
              "          '<a target=\"_blank\" href=https://colab.research.google.com/notebooks/data_table.ipynb>data table notebook</a>'\n",
              "          + ' to learn more about interactive tables.';\n",
              "        element.innerHTML = '';\n",
              "        dataTable['output_type'] = 'display_data';\n",
              "        await google.colab.output.renderOutput(dataTable, element);\n",
              "        const docLink = document.createElement('div');\n",
              "        docLink.innerHTML = docLinkHtml;\n",
              "        element.appendChild(docLink);\n",
              "      }\n",
              "    </script>\n",
              "  </div>\n",
              "\n",
              "\n",
              "    <div id=\"df-fb62f637-32a5-4cac-8d0d-a5fd845a9a81\">\n",
              "      <button class=\"colab-df-quickchart\" onclick=\"quickchart('df-fb62f637-32a5-4cac-8d0d-a5fd845a9a81')\"\n",
              "                title=\"Suggest charts\"\n",
              "                style=\"display:none;\">\n",
              "\n",
              "<svg xmlns=\"http://www.w3.org/2000/svg\" height=\"24px\"viewBox=\"0 0 24 24\"\n",
              "     width=\"24px\">\n",
              "    <g>\n",
              "        <path d=\"M19 3H5c-1.1 0-2 .9-2 2v14c0 1.1.9 2 2 2h14c1.1 0 2-.9 2-2V5c0-1.1-.9-2-2-2zM9 17H7v-7h2v7zm4 0h-2V7h2v10zm4 0h-2v-4h2v4z\"/>\n",
              "    </g>\n",
              "</svg>\n",
              "      </button>\n",
              "\n",
              "<style>\n",
              "  .colab-df-quickchart {\n",
              "      --bg-color: #E8F0FE;\n",
              "      --fill-color: #1967D2;\n",
              "      --hover-bg-color: #E2EBFA;\n",
              "      --hover-fill-color: #174EA6;\n",
              "      --disabled-fill-color: #AAA;\n",
              "      --disabled-bg-color: #DDD;\n",
              "  }\n",
              "\n",
              "  [theme=dark] .colab-df-quickchart {\n",
              "      --bg-color: #3B4455;\n",
              "      --fill-color: #D2E3FC;\n",
              "      --hover-bg-color: #434B5C;\n",
              "      --hover-fill-color: #FFFFFF;\n",
              "      --disabled-bg-color: #3B4455;\n",
              "      --disabled-fill-color: #666;\n",
              "  }\n",
              "\n",
              "  .colab-df-quickchart {\n",
              "    background-color: var(--bg-color);\n",
              "    border: none;\n",
              "    border-radius: 50%;\n",
              "    cursor: pointer;\n",
              "    display: none;\n",
              "    fill: var(--fill-color);\n",
              "    height: 32px;\n",
              "    padding: 0;\n",
              "    width: 32px;\n",
              "  }\n",
              "\n",
              "  .colab-df-quickchart:hover {\n",
              "    background-color: var(--hover-bg-color);\n",
              "    box-shadow: 0 1px 2px rgba(60, 64, 67, 0.3), 0 1px 3px 1px rgba(60, 64, 67, 0.15);\n",
              "    fill: var(--button-hover-fill-color);\n",
              "  }\n",
              "\n",
              "  .colab-df-quickchart-complete:disabled,\n",
              "  .colab-df-quickchart-complete:disabled:hover {\n",
              "    background-color: var(--disabled-bg-color);\n",
              "    fill: var(--disabled-fill-color);\n",
              "    box-shadow: none;\n",
              "  }\n",
              "\n",
              "  .colab-df-spinner {\n",
              "    border: 2px solid var(--fill-color);\n",
              "    border-color: transparent;\n",
              "    border-bottom-color: var(--fill-color);\n",
              "    animation:\n",
              "      spin 1s steps(1) infinite;\n",
              "  }\n",
              "\n",
              "  @keyframes spin {\n",
              "    0% {\n",
              "      border-color: transparent;\n",
              "      border-bottom-color: var(--fill-color);\n",
              "      border-left-color: var(--fill-color);\n",
              "    }\n",
              "    20% {\n",
              "      border-color: transparent;\n",
              "      border-left-color: var(--fill-color);\n",
              "      border-top-color: var(--fill-color);\n",
              "    }\n",
              "    30% {\n",
              "      border-color: transparent;\n",
              "      border-left-color: var(--fill-color);\n",
              "      border-top-color: var(--fill-color);\n",
              "      border-right-color: var(--fill-color);\n",
              "    }\n",
              "    40% {\n",
              "      border-color: transparent;\n",
              "      border-right-color: var(--fill-color);\n",
              "      border-top-color: var(--fill-color);\n",
              "    }\n",
              "    60% {\n",
              "      border-color: transparent;\n",
              "      border-right-color: var(--fill-color);\n",
              "    }\n",
              "    80% {\n",
              "      border-color: transparent;\n",
              "      border-right-color: var(--fill-color);\n",
              "      border-bottom-color: var(--fill-color);\n",
              "    }\n",
              "    90% {\n",
              "      border-color: transparent;\n",
              "      border-bottom-color: var(--fill-color);\n",
              "    }\n",
              "  }\n",
              "</style>\n",
              "\n",
              "      <script>\n",
              "        async function quickchart(key) {\n",
              "          const quickchartButtonEl =\n",
              "            document.querySelector('#' + key + ' button');\n",
              "          quickchartButtonEl.disabled = true;  // To prevent multiple clicks.\n",
              "          quickchartButtonEl.classList.add('colab-df-spinner');\n",
              "          try {\n",
              "            const charts = await google.colab.kernel.invokeFunction(\n",
              "                'suggestCharts', [key], {});\n",
              "          } catch (error) {\n",
              "            console.error('Error during call to suggestCharts:', error);\n",
              "          }\n",
              "          quickchartButtonEl.classList.remove('colab-df-spinner');\n",
              "          quickchartButtonEl.classList.add('colab-df-quickchart-complete');\n",
              "        }\n",
              "        (() => {\n",
              "          let quickchartButtonEl =\n",
              "            document.querySelector('#df-fb62f637-32a5-4cac-8d0d-a5fd845a9a81 button');\n",
              "          quickchartButtonEl.style.display =\n",
              "            google.colab.kernel.accessAllowed ? 'block' : 'none';\n",
              "        })();\n",
              "      </script>\n",
              "    </div>\n",
              "\n",
              "    </div>\n",
              "  </div>\n"
            ],
            "application/vnd.google.colaboratory.intrinsic+json": {
              "type": "dataframe",
              "variable_name": "t_enc",
              "summary": "{\n  \"name\": \"t_enc\",\n  \"rows\": 891,\n  \"fields\": [\n    {\n      \"column\": \"sex_male\",\n      \"properties\": {\n        \"dtype\": \"boolean\",\n        \"num_unique_values\": 2,\n        \"samples\": [\n          false,\n          true\n        ],\n        \"semantic_type\": \"\",\n        \"description\": \"\"\n      }\n    },\n    {\n      \"column\": \"class_Second\",\n      \"properties\": {\n        \"dtype\": \"boolean\",\n        \"num_unique_values\": 2,\n        \"samples\": [\n          true,\n          false\n        ],\n        \"semantic_type\": \"\",\n        \"description\": \"\"\n      }\n    },\n    {\n      \"column\": \"class_Third\",\n      \"properties\": {\n        \"dtype\": \"boolean\",\n        \"num_unique_values\": 2,\n        \"samples\": [\n          false,\n          true\n        ],\n        \"semantic_type\": \"\",\n        \"description\": \"\"\n      }\n    },\n    {\n      \"column\": \"embarked_Q\",\n      \"properties\": {\n        \"dtype\": \"boolean\",\n        \"num_unique_values\": 2,\n        \"samples\": [\n          true,\n          false\n        ],\n        \"semantic_type\": \"\",\n        \"description\": \"\"\n      }\n    },\n    {\n      \"column\": \"embarked_S\",\n      \"properties\": {\n        \"dtype\": \"boolean\",\n        \"num_unique_values\": 2,\n        \"samples\": [\n          false,\n          true\n        ],\n        \"semantic_type\": \"\",\n        \"description\": \"\"\n      }\n    },\n    {\n      \"column\": \"embarked_missing\",\n      \"properties\": {\n        \"dtype\": \"boolean\",\n        \"num_unique_values\": 2,\n        \"samples\": [\n          true,\n          false\n        ],\n        \"semantic_type\": \"\",\n        \"description\": \"\"\n      }\n    }\n  ]\n}"
            }
          },
          "metadata": {},
          "execution_count": 61
        }
      ],
      "source": [
        "t_small = t[['sex','class','embarked']].copy()\n",
        "# Convert categorical columns to object type before filling NaN\n",
        "for col in t_small.select_dtypes('category').columns:\n",
        "  t_small[col] = t_small[col].astype('object')\n",
        "t_small = t_small.fillna('missing')\n",
        "t_enc = pd.get_dummies(t_small, drop_first=True)\n",
        "t_enc.head()"
      ]
    },
    {
      "cell_type": "code",
      "metadata": {
        "colab": {
          "base_uri": "https://localhost:8080/"
        },
        "id": "f0c76779",
        "outputId": "90ecda51-1349-4bcd-9dc7-897783024676"
      },
      "source": [
        "!pip install imbalanced-learn"
      ],
      "id": "f0c76779",
      "execution_count": 62,
      "outputs": [
        {
          "output_type": "stream",
          "name": "stdout",
          "text": [
            "Requirement already satisfied: imbalanced-learn in /usr/local/lib/python3.12/dist-packages (0.14.0)\n",
            "Requirement already satisfied: numpy<3,>=1.25.2 in /usr/local/lib/python3.12/dist-packages (from imbalanced-learn) (2.0.2)\n",
            "Requirement already satisfied: scipy<2,>=1.11.4 in /usr/local/lib/python3.12/dist-packages (from imbalanced-learn) (1.16.2)\n",
            "Requirement already satisfied: scikit-learn<2,>=1.4.2 in /usr/local/lib/python3.12/dist-packages (from imbalanced-learn) (1.6.1)\n",
            "Requirement already satisfied: joblib<2,>=1.2.0 in /usr/local/lib/python3.12/dist-packages (from imbalanced-learn) (1.5.2)\n",
            "Requirement already satisfied: threadpoolctl<4,>=2.0.0 in /usr/local/lib/python3.12/dist-packages (from imbalanced-learn) (3.6.0)\n"
          ]
        }
      ]
    },
    {
      "cell_type": "markdown",
      "id": "8b98aa60",
      "metadata": {
        "id": "8b98aa60"
      },
      "source": [
        "### C3. Split dataset into features/target and train/test sets (Bank Churn placeholder)\n",
        "_If you have the CSV, upload it to Colab and update the path._"
      ]
    },
    {
      "cell_type": "code",
      "execution_count": 63,
      "id": "3a33e4d4",
      "metadata": {
        "colab": {
          "base_uri": "https://localhost:8080/"
        },
        "id": "3a33e4d4",
        "outputId": "c787e26b-7519-4d98-d38b-6f1f64e972ce"
      },
      "outputs": [
        {
          "output_type": "execute_result",
          "data": {
            "text/plain": [
              "((750, 12), (250, 12), array([797, 203]))"
            ]
          },
          "metadata": {},
          "execution_count": 63
        }
      ],
      "source": [
        "# Placeholder: simulate bank churn data\n",
        "from sklearn.datasets import make_classification\n",
        "X_bank, y_bank = make_classification(n_samples=1000, n_features=12, n_informative=6, weights=[0.8,0.2], random_state=42)\n",
        "from sklearn.model_selection import train_test_split\n",
        "Xb_tr, Xb_te, yb_tr, yb_te = train_test_split(X_bank, y_bank, test_size=0.25, random_state=42)\n",
        "Xb_tr.shape, Xb_te.shape, np.bincount(y_bank)"
      ]
    },
    {
      "cell_type": "markdown",
      "id": "8ff44779",
      "metadata": {
        "id": "8ff44779"
      },
      "source": [
        "### C4. Handling missing values in a pipeline (Imputer + Scaler)"
      ]
    },
    {
      "cell_type": "code",
      "execution_count": 64,
      "id": "69da80b3",
      "metadata": {
        "colab": {
          "base_uri": "https://localhost:8080/"
        },
        "id": "69da80b3",
        "outputId": "00215d5a-2b77-44b3-a741-31ec94fe14ff"
      },
      "outputs": [
        {
          "output_type": "execute_result",
          "data": {
            "text/plain": [
              "array([[-1.22474487, -1.22474487,  0.        ],\n",
              "       [ 0.        ,  0.        , -1.22474487],\n",
              "       [ 1.22474487,  1.22474487,  1.22474487]])"
            ]
          },
          "metadata": {},
          "execution_count": 64
        }
      ],
      "source": [
        "from sklearn.impute import SimpleImputer\n",
        "from sklearn.pipeline import Pipeline\n",
        "\n",
        "pipe_impute = Pipeline([('im', SimpleImputer(strategy='median')), ('sc', StandardScaler())])\n",
        "X_sample = np.array([[1,2,np.nan],[4,np.nan,6],[7,8,9]], dtype=float)\n",
        "pipe_impute.fit_transform(X_sample)"
      ]
    },
    {
      "cell_type": "markdown",
      "id": "b2f2457d",
      "metadata": {
        "id": "b2f2457d"
      },
      "source": [
        "### C5. Custom transformer for scikit-learn pipeline\n",
        "Example: add interaction features transformer."
      ]
    },
    {
      "cell_type": "code",
      "execution_count": 65,
      "id": "6b7e7cdc",
      "metadata": {
        "colab": {
          "base_uri": "https://localhost:8080/"
        },
        "id": "6b7e7cdc",
        "outputId": "e5ec2341-8023-4ab7-891d-8372fa681be2"
      },
      "outputs": [
        {
          "output_type": "execute_result",
          "data": {
            "text/plain": [
              "array([[1, 0, 3, 2],\n",
              "       [0, 2, 1, 3],\n",
              "       [1, 1, 2, 3]])"
            ]
          },
          "metadata": {},
          "execution_count": 65
        }
      ],
      "source": [
        "from sklearn.base import BaseEstimator, TransformerMixin\n",
        "\n",
        "class FamilyFeatures(BaseEstimator, TransformerMixin):\n",
        "    def __init__(self, sibsp_idx=0, parch_idx=1):\n",
        "        self.sibsp_idx = sibsp_idx\n",
        "        self.parch_idx = parch_idx\n",
        "    def fit(self, X, y=None):\n",
        "        return self\n",
        "    def transform(self, X):\n",
        "        X = X.copy()\n",
        "        fs = X[:, self.sibsp_idx] + X[:, self.parch_idx] + 1\n",
        "        return np.hstack([X, fs.reshape(-1,1)])\n",
        "\n",
        "# quick test with synthetic array\n",
        "A = np.array([[1,0,3],[0,2,1],[1,1,2]])\n",
        "FamilyFeatures(0,1).fit_transform(A)"
      ]
    },
    {
      "cell_type": "markdown",
      "id": "e1779264",
      "metadata": {
        "id": "e1779264"
      },
      "source": [
        "# Part D — General AI/ML Workflow & Project Lifecycle (5 Questions)"
      ]
    },
    {
      "cell_type": "markdown",
      "id": "426db9bc",
      "metadata": {
        "id": "426db9bc"
      },
      "source": [
        "### D1. Loading multiple CSVs and concatenating\n",
        "Split Iris into two CSVs (train/test) and load+concat."
      ]
    },
    {
      "cell_type": "code",
      "execution_count": 66,
      "id": "1bdc7e72",
      "metadata": {
        "colab": {
          "base_uri": "https://localhost:8080/"
        },
        "id": "1bdc7e72",
        "outputId": "a8d061bf-d2f3-4969-a3a9-f1c2e3cfbfb0"
      },
      "outputs": [
        {
          "output_type": "execute_result",
          "data": {
            "text/plain": [
              "(150, 5)"
            ]
          },
          "metadata": {},
          "execution_count": 66
        }
      ],
      "source": [
        "# Save two small CSVs from Iris and reload to demonstrate concatenation\n",
        "iris_df = iris.frame\n",
        "iris_df.iloc[:100].to_csv('iris_part1.csv', index=False)\n",
        "iris_df.iloc[100:].to_csv('iris_part2.csv', index=False)\n",
        "\n",
        "df1 = pd.read_csv('iris_part1.csv')\n",
        "df2 = pd.read_csv('iris_part2.csv')\n",
        "df_concat = pd.concat([df1, df2], axis=0, ignore_index=True)\n",
        "df_concat.shape"
      ]
    },
    {
      "cell_type": "markdown",
      "id": "0a0dbdc3",
      "metadata": {
        "id": "0a0dbdc3"
      },
      "source": [
        "### D2. Save a trained model with pickle and load for inference"
      ]
    },
    {
      "cell_type": "code",
      "execution_count": 67,
      "id": "fe844d70",
      "metadata": {
        "colab": {
          "base_uri": "https://localhost:8080/"
        },
        "id": "fe844d70",
        "outputId": "a231813c-7b9b-4edb-9701-a7cbda3355dc"
      },
      "outputs": [
        {
          "output_type": "execute_result",
          "data": {
            "text/plain": [
              "array([0, 0, 0, 0, 0])"
            ]
          },
          "metadata": {},
          "execution_count": 67
        }
      ],
      "source": [
        "import pickle\n",
        "from sklearn.linear_model import LogisticRegression\n",
        "lr = LogisticRegression(max_iter=1000).fit(X_iris, y_iris)\n",
        "with open('/content/iris_lr.pkl', 'wb') as f:\n",
        "    pickle.dump(lr, f)\n",
        "\n",
        "# Load back\n",
        "with open('/content/iris_lr.pkl','rb') as f:\n",
        "    lr2 = pickle.load(f)\n",
        "lr2.predict(X_iris[:5])"
      ]
    },
    {
      "cell_type": "markdown",
      "id": "5695d0d0",
      "metadata": {
        "id": "5695d0d0"
      },
      "source": [
        "### D3. Track model metrics in a CSV log"
      ]
    },
    {
      "cell_type": "code",
      "execution_count": 68,
      "id": "51f10084",
      "metadata": {
        "colab": {
          "base_uri": "https://localhost:8080/",
          "height": 89
        },
        "id": "51f10084",
        "outputId": "aa511638-1698-4961-9c69-4aad2ecd81da"
      },
      "outputs": [
        {
          "output_type": "execute_result",
          "data": {
            "text/plain": [
              "         model  accuracy\n",
              "0  logreg_iris  0.973333"
            ],
            "text/html": [
              "\n",
              "  <div id=\"df-bf7a23e4-51fd-43e3-a8e2-c64354950f52\" class=\"colab-df-container\">\n",
              "    <div>\n",
              "<style scoped>\n",
              "    .dataframe tbody tr th:only-of-type {\n",
              "        vertical-align: middle;\n",
              "    }\n",
              "\n",
              "    .dataframe tbody tr th {\n",
              "        vertical-align: top;\n",
              "    }\n",
              "\n",
              "    .dataframe thead th {\n",
              "        text-align: right;\n",
              "    }\n",
              "</style>\n",
              "<table border=\"1\" class=\"dataframe\">\n",
              "  <thead>\n",
              "    <tr style=\"text-align: right;\">\n",
              "      <th></th>\n",
              "      <th>model</th>\n",
              "      <th>accuracy</th>\n",
              "    </tr>\n",
              "  </thead>\n",
              "  <tbody>\n",
              "    <tr>\n",
              "      <th>0</th>\n",
              "      <td>logreg_iris</td>\n",
              "      <td>0.973333</td>\n",
              "    </tr>\n",
              "  </tbody>\n",
              "</table>\n",
              "</div>\n",
              "    <div class=\"colab-df-buttons\">\n",
              "\n",
              "  <div class=\"colab-df-container\">\n",
              "    <button class=\"colab-df-convert\" onclick=\"convertToInteractive('df-bf7a23e4-51fd-43e3-a8e2-c64354950f52')\"\n",
              "            title=\"Convert this dataframe to an interactive table.\"\n",
              "            style=\"display:none;\">\n",
              "\n",
              "  <svg xmlns=\"http://www.w3.org/2000/svg\" height=\"24px\" viewBox=\"0 -960 960 960\">\n",
              "    <path d=\"M120-120v-720h720v720H120Zm60-500h600v-160H180v160Zm220 220h160v-160H400v160Zm0 220h160v-160H400v160ZM180-400h160v-160H180v160Zm440 0h160v-160H620v160ZM180-180h160v-160H180v160Zm440 0h160v-160H620v160Z\"/>\n",
              "  </svg>\n",
              "    </button>\n",
              "\n",
              "  <style>\n",
              "    .colab-df-container {\n",
              "      display:flex;\n",
              "      gap: 12px;\n",
              "    }\n",
              "\n",
              "    .colab-df-convert {\n",
              "      background-color: #E8F0FE;\n",
              "      border: none;\n",
              "      border-radius: 50%;\n",
              "      cursor: pointer;\n",
              "      display: none;\n",
              "      fill: #1967D2;\n",
              "      height: 32px;\n",
              "      padding: 0 0 0 0;\n",
              "      width: 32px;\n",
              "    }\n",
              "\n",
              "    .colab-df-convert:hover {\n",
              "      background-color: #E2EBFA;\n",
              "      box-shadow: 0px 1px 2px rgba(60, 64, 67, 0.3), 0px 1px 3px 1px rgba(60, 64, 67, 0.15);\n",
              "      fill: #174EA6;\n",
              "    }\n",
              "\n",
              "    .colab-df-buttons div {\n",
              "      margin-bottom: 4px;\n",
              "    }\n",
              "\n",
              "    [theme=dark] .colab-df-convert {\n",
              "      background-color: #3B4455;\n",
              "      fill: #D2E3FC;\n",
              "    }\n",
              "\n",
              "    [theme=dark] .colab-df-convert:hover {\n",
              "      background-color: #434B5C;\n",
              "      box-shadow: 0px 1px 3px 1px rgba(0, 0, 0, 0.15);\n",
              "      filter: drop-shadow(0px 1px 2px rgba(0, 0, 0, 0.3));\n",
              "      fill: #FFFFFF;\n",
              "    }\n",
              "  </style>\n",
              "\n",
              "    <script>\n",
              "      const buttonEl =\n",
              "        document.querySelector('#df-bf7a23e4-51fd-43e3-a8e2-c64354950f52 button.colab-df-convert');\n",
              "      buttonEl.style.display =\n",
              "        google.colab.kernel.accessAllowed ? 'block' : 'none';\n",
              "\n",
              "      async function convertToInteractive(key) {\n",
              "        const element = document.querySelector('#df-bf7a23e4-51fd-43e3-a8e2-c64354950f52');\n",
              "        const dataTable =\n",
              "          await google.colab.kernel.invokeFunction('convertToInteractive',\n",
              "                                                    [key], {});\n",
              "        if (!dataTable) return;\n",
              "\n",
              "        const docLinkHtml = 'Like what you see? Visit the ' +\n",
              "          '<a target=\"_blank\" href=https://colab.research.google.com/notebooks/data_table.ipynb>data table notebook</a>'\n",
              "          + ' to learn more about interactive tables.';\n",
              "        element.innerHTML = '';\n",
              "        dataTable['output_type'] = 'display_data';\n",
              "        await google.colab.output.renderOutput(dataTable, element);\n",
              "        const docLink = document.createElement('div');\n",
              "        docLink.innerHTML = docLinkHtml;\n",
              "        element.appendChild(docLink);\n",
              "      }\n",
              "    </script>\n",
              "  </div>\n",
              "\n",
              "\n",
              "  <div id=\"id_7f390027-664f-49b1-9953-bd43f6aab104\">\n",
              "    <style>\n",
              "      .colab-df-generate {\n",
              "        background-color: #E8F0FE;\n",
              "        border: none;\n",
              "        border-radius: 50%;\n",
              "        cursor: pointer;\n",
              "        display: none;\n",
              "        fill: #1967D2;\n",
              "        height: 32px;\n",
              "        padding: 0 0 0 0;\n",
              "        width: 32px;\n",
              "      }\n",
              "\n",
              "      .colab-df-generate:hover {\n",
              "        background-color: #E2EBFA;\n",
              "        box-shadow: 0px 1px 2px rgba(60, 64, 67, 0.3), 0px 1px 3px 1px rgba(60, 64, 67, 0.15);\n",
              "        fill: #174EA6;\n",
              "      }\n",
              "\n",
              "      [theme=dark] .colab-df-generate {\n",
              "        background-color: #3B4455;\n",
              "        fill: #D2E3FC;\n",
              "      }\n",
              "\n",
              "      [theme=dark] .colab-df-generate:hover {\n",
              "        background-color: #434B5C;\n",
              "        box-shadow: 0px 1px 3px 1px rgba(0, 0, 0, 0.15);\n",
              "        filter: drop-shadow(0px 1px 2px rgba(0, 0, 0, 0.3));\n",
              "        fill: #FFFFFF;\n",
              "      }\n",
              "    </style>\n",
              "    <button class=\"colab-df-generate\" onclick=\"generateWithVariable('mdf')\"\n",
              "            title=\"Generate code using this dataframe.\"\n",
              "            style=\"display:none;\">\n",
              "\n",
              "  <svg xmlns=\"http://www.w3.org/2000/svg\" height=\"24px\"viewBox=\"0 0 24 24\"\n",
              "       width=\"24px\">\n",
              "    <path d=\"M7,19H8.4L18.45,9,17,7.55,7,17.6ZM5,21V16.75L18.45,3.32a2,2,0,0,1,2.83,0l1.4,1.43a1.91,1.91,0,0,1,.58,1.4,1.91,1.91,0,0,1-.58,1.4L9.25,21ZM18.45,9,17,7.55Zm-12,3A5.31,5.31,0,0,0,4.9,8.1,5.31,5.31,0,0,0,1,6.5,5.31,5.31,0,0,0,4.9,4.9,5.31,5.31,0,0,0,6.5,1,5.31,5.31,0,0,0,8.1,4.9,5.31,5.31,0,0,0,12,6.5,5.46,5.46,0,0,0,6.5,12Z\"/>\n",
              "  </svg>\n",
              "    </button>\n",
              "    <script>\n",
              "      (() => {\n",
              "      const buttonEl =\n",
              "        document.querySelector('#id_7f390027-664f-49b1-9953-bd43f6aab104 button.colab-df-generate');\n",
              "      buttonEl.style.display =\n",
              "        google.colab.kernel.accessAllowed ? 'block' : 'none';\n",
              "\n",
              "      buttonEl.onclick = () => {\n",
              "        google.colab.notebook.generateWithVariable('mdf');\n",
              "      }\n",
              "      })();\n",
              "    </script>\n",
              "  </div>\n",
              "\n",
              "    </div>\n",
              "  </div>\n"
            ],
            "application/vnd.google.colaboratory.intrinsic+json": {
              "type": "dataframe",
              "variable_name": "mdf",
              "summary": "{\n  \"name\": \"mdf\",\n  \"rows\": 1,\n  \"fields\": [\n    {\n      \"column\": \"model\",\n      \"properties\": {\n        \"dtype\": \"string\",\n        \"num_unique_values\": 1,\n        \"samples\": [\n          \"logreg_iris\"\n        ],\n        \"semantic_type\": \"\",\n        \"description\": \"\"\n      }\n    },\n    {\n      \"column\": \"accuracy\",\n      \"properties\": {\n        \"dtype\": \"number\",\n        \"std\": null,\n        \"min\": 0.9733333333333334,\n        \"max\": 0.9733333333333334,\n        \"num_unique_values\": 1,\n        \"samples\": [\n          0.9733333333333334\n        ],\n        \"semantic_type\": \"\",\n        \"description\": \"\"\n      }\n    }\n  ]\n}"
            }
          },
          "metadata": {},
          "execution_count": 68
        }
      ],
      "source": [
        "import pandas as pd\n",
        "metrics = {'model':['logreg_iris'],'accuracy':[accuracy_score(y_iris, lr2.predict(X_iris))]}\n",
        "mdf = pd.DataFrame(metrics)\n",
        "mdf.to_csv('/content/model_metrics_log.csv', index=False)\n",
        "mdf"
      ]
    },
    {
      "cell_type": "markdown",
      "id": "1819d6be",
      "metadata": {
        "id": "1819d6be"
      },
      "source": [
        "### D4. Simulate simple model drift detection\n",
        "Shift distribution of a feature and compute performance drop."
      ]
    },
    {
      "cell_type": "code",
      "execution_count": 69,
      "id": "a32e3df3",
      "metadata": {
        "colab": {
          "base_uri": "https://localhost:8080/"
        },
        "id": "a32e3df3",
        "outputId": "4547e556-c66f-49c4-9252-0c2500f050cf"
      },
      "outputs": [
        {
          "output_type": "execute_result",
          "data": {
            "text/plain": [
              "(0.916, 0.888)"
            ]
          },
          "metadata": {},
          "execution_count": 69
        }
      ],
      "source": [
        "# Original performance on X_bank test (placeholder model from earlier pipe)\n",
        "from sklearn.ensemble import RandomForestClassifier\n",
        "rf = RandomForestClassifier(n_estimators=50, random_state=0).fit(Xb_tr, yb_tr)\n",
        "base_acc = rf.score(Xb_te, yb_te)\n",
        "\n",
        "# Create drifted test by shifting one feature\n",
        "Xb_te_drift = Xb_te.copy()\n",
        "Xb_te_drift[:,0] += 2.0  # shift\n",
        "drift_acc = rf.score(Xb_te_drift, yb_te)\n",
        "base_acc, drift_acc"
      ]
    },
    {
      "cell_type": "markdown",
      "id": "dbe6fe78",
      "metadata": {
        "id": "dbe6fe78"
      },
      "source": [
        "### D5. Automating retraining (example function)\n",
        "A simple function to retrain when drift detected."
      ]
    },
    {
      "cell_type": "code",
      "execution_count": 70,
      "id": "0b127b7b",
      "metadata": {
        "colab": {
          "base_uri": "https://localhost:8080/"
        },
        "id": "0b127b7b",
        "outputId": "d486737e-4239-4ca9-eb4a-827ac99c0cc1"
      },
      "outputs": [
        {
          "output_type": "execute_result",
          "data": {
            "text/plain": [
              "(False, 0.916, 0.908)"
            ]
          },
          "metadata": {},
          "execution_count": 70
        }
      ],
      "source": [
        "def retrain_if_drift(model, X_val, y_val, threshold_drop=0.05):\n",
        "    base = model.score(X_val, y_val)\n",
        "    # simulate new data (in practice fetch new labeled batch)\n",
        "    X_new = X_val.copy(); X_new[:,0] += 0.5\n",
        "    new_score = model.score(X_new, y_val)\n",
        "    if base - new_score >= threshold_drop:\n",
        "        # retrain (example)\n",
        "        model.fit(X_val, y_val)\n",
        "        return True, base, new_score\n",
        "    return False, base, new_score\n",
        "\n",
        "retrain_if_drift(rf, Xb_te, yb_te)"
      ]
    }
  ],
  "metadata": {
    "colab": {
      "provenance": [],
      "include_colab_link": true
    },
    "language_info": {
      "name": "python"
    },
    "kernelspec": {
      "name": "python3",
      "display_name": "Python 3"
    }
  },
  "nbformat": 4,
  "nbformat_minor": 5
}