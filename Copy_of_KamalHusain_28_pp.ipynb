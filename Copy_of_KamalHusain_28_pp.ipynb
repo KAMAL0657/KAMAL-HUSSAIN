{
  "cells": [
    {
      "cell_type": "markdown",
      "metadata": {
        "id": "view-in-github",
        "colab_type": "text"
      },
      "source": [
        "<a href=\"https://colab.research.google.com/github/KAMAL0657/KAMAL-HUSSAIN/blob/main/Copy_of_KamalHusain_28_pp.ipynb\" target=\"_parent\"><img src=\"https://colab.research.google.com/assets/colab-badge.svg\" alt=\"Open In Colab\"/></a>"
      ]
    },
    {
      "cell_type": "code",
      "execution_count": null,
      "id": "b942296d",
      "metadata": {
        "id": "b942296d"
      },
      "outputs": [],
      "source": [
        "# KamalHusain\n",
        "# !pip install scikit-learn pandas matplotlib joblib\n"
      ]
    },
    {
      "cell_type": "code",
      "execution_count": null,
      "id": "5507febb",
      "metadata": {
        "id": "5507febb"
      },
      "outputs": [],
      "source": [
        "import random\n",
        "import numpy as np\n",
        "import pandas as pd\n",
        "from sklearn.feature_extraction.text import TfidfVectorizer\n",
        "from sklearn.model_selection import train_test_split, GridSearchCV, StratifiedKFold\n",
        "from sklearn.preprocessing import StandardScaler, MinMaxScaler\n",
        "from sklearn.neighbors import KNeighborsClassifier\n",
        "from sklearn.svm import SVC\n",
        "from sklearn.tree import DecisionTreeClassifier\n",
        "from sklearn.metrics import accuracy_score, precision_score, recall_score, f1_score, roc_auc_score, confusion_matrix\n",
        "from scipy.sparse import hstack, csr_matrix\n",
        "import joblib\n",
        "import os\n",
        "\n",
        "RANDOM_STATE = 42\n",
        "random.seed(RANDOM_STATE)\n",
        "np.random.seed(RANDOM_STATE)\n"
      ]
    },
    {
      "cell_type": "code",
      "execution_count": null,
      "id": "5777c73d",
      "metadata": {
        "colab": {
          "base_uri": "https://localhost:8080/"
        },
        "id": "5777c73d",
        "outputId": "5c19572d-cd33-4aee-9bac-f5755168c21a"
      },
      "outputs": [
        {
          "output_type": "stream",
          "name": "stdout",
          "text": [
            "Dataset created: (5000, 4)\n",
            "label\n",
            "0    4500\n",
            "1     500\n",
            "Name: count, dtype: int64\n"
          ]
        }
      ],
      "source": [
        "def generate_email(is_spam, spam_vocab, ham_vocab, neutral_vocab):\n",
        "    length = np.random.randint(5, 81)\n",
        "    words = []\n",
        "    for i in range(length):\n",
        "        r = random.random()\n",
        "        if is_spam:\n",
        "            if r < 0.45:\n",
        "                words.append(random.choice(spam_vocab))\n",
        "            elif r < 0.65:\n",
        "                words.append(random.choice(neutral_vocab))\n",
        "            else:\n",
        "                words.append(random.choice(ham_vocab))\n",
        "        else:\n",
        "            if r < 0.6:\n",
        "                words.append(random.choice(ham_vocab))\n",
        "            elif r < 0.85:\n",
        "                words.append(random.choice(neutral_vocab))\n",
        "            else:\n",
        "                words.append(random.choice(spam_vocab))\n",
        "    has_url = False\n",
        "    if is_spam:\n",
        "        if random.random() < 0.45:\n",
        "            words.append('http://example.com')\n",
        "            has_url = True\n",
        "    else:\n",
        "        if random.random() < 0.05:\n",
        "            words.append('http://example.com')\n",
        "            has_url = True\n",
        "    text = ' '.join(words)\n",
        "    return text, int(has_url), len(words)\n",
        "\n",
        "spam_vocab = ['free','winner','credit','loan','offer','click','buy','cheap','limited','deal','congratulations','urgent','trial','guarantee','money','prize']\n",
        "ham_vocab = ['meeting','schedule','project','report','family','dinner','school','assignment','invoice','regards','thanks','please','update','team','tomorrow']\n",
        "neutral_vocab = ['today','please','information','attached','see','note','hello','regards','email','sent']\n",
        "\n",
        "n_spam = 500\n",
        "n_ham = 4500\n",
        "\n",
        "texts = []\n",
        "urls = []\n",
        "lengths = []\n",
        "labels = []\n",
        "\n",
        "for _ in range(n_spam):\n",
        "    t,u,l = generate_email(True, spam_vocab, ham_vocab, neutral_vocab)\n",
        "    texts.append(t)\n",
        "    urls.append(u)\n",
        "    lengths.append(l)\n",
        "    labels.append(1)\n",
        "for _ in range(n_ham):\n",
        "    t,u,l = generate_email(False, spam_vocab, ham_vocab, neutral_vocab)\n",
        "    texts.append(t)\n",
        "    urls.append(u)\n",
        "    lengths.append(l)\n",
        "    labels.append(0)\n",
        "\n",
        "df = pd.DataFrame({'text': texts, 'has_url': urls, 'length': lengths, 'label': labels})\n",
        "print('Dataset created:', df.shape)\n",
        "print(df['label'].value_counts())\n"
      ]
    },
    {
      "cell_type": "code",
      "execution_count": null,
      "id": "d1b29972",
      "metadata": {
        "colab": {
          "base_uri": "https://localhost:8080/"
        },
        "id": "d1b29972",
        "outputId": "1ea55dff-d2f1-4c47-abc1-99e6fcc793ee"
      },
      "outputs": [
        {
          "output_type": "stream",
          "name": "stdout",
          "text": [
            "Feature matrix shape: (5000, 42)\n"
          ]
        }
      ],
      "source": [
        "vectorizer = TfidfVectorizer(max_features=3000, stop_words='english')\n",
        "X_text = vectorizer.fit_transform(df['text'])\n",
        "X_len = df[['length']].values.astype(float)\n",
        "scaler_len = StandardScaler()\n",
        "X_len_scaled = scaler_len.fit_transform(X_len)\n",
        "X_url = df[['has_url']].astype(float).values\n",
        "\n",
        "X = hstack([X_text, csr_matrix(X_len_scaled), csr_matrix(X_url)])\n",
        "Y = df['label'].values\n",
        "\n",
        "print('Feature matrix shape:', X.shape)\n"
      ]
    },
    {
      "cell_type": "code",
      "execution_count": null,
      "id": "288d6537",
      "metadata": {
        "colab": {
          "base_uri": "https://localhost:8080/"
        },
        "id": "288d6537",
        "outputId": "17b5c0d3-1f89-4950-c3d4-bd6fe49d6db2"
      },
      "outputs": [
        {
          "output_type": "stream",
          "name": "stdout",
          "text": [
            "Train: (4000, 42) Test: (1000, 42)\n"
          ]
        }
      ],
      "source": [
        "X_train, X_test, y_train, y_test = train_test_split(X, Y, test_size=0.2, stratify=Y, random_state=RANDOM_STATE)\n",
        "print('Train:', X_train.shape, 'Test:', X_test.shape)\n"
      ]
    },
    {
      "cell_type": "code",
      "execution_count": null,
      "id": "a98f0bad",
      "metadata": {
        "id": "a98f0bad"
      },
      "outputs": [],
      "source": [
        "results = {}\n",
        "\n",
        "def evaluate_model(name, model, X_tr, y_tr, X_te, y_te):\n",
        "    model.fit(X_tr, y_tr)\n",
        "    y_pred = model.predict(X_te)\n",
        "    if hasattr(model, 'predict_proba'):\n",
        "        y_prob = model.predict_proba(X_te)[:,1]\n",
        "    else:\n",
        "        if hasattr(model, 'decision_function'):\n",
        "            try:\n",
        "                scores = model.decision_function(X_te)\n",
        "                scaler = MinMaxScaler()\n",
        "                y_prob = scaler.fit_transform(scores.reshape(-1,1)).ravel()\n",
        "            except Exception:\n",
        "                y_prob = None\n",
        "        else:\n",
        "            y_prob = None\n",
        "    acc = accuracy_score(y_te, y_pred)\n",
        "    prec = precision_score(y_te, y_pred)\n",
        "    rec = recall_score(y_te, y_pred)\n",
        "    f1 = f1_score(y_te, y_pred)\n",
        "    auc = roc_auc_score(y_te, y_prob) if y_prob is not None else None\n",
        "    cm = confusion_matrix(y_te, y_pred)\n",
        "    results[name] = {'model': model, 'accuracy': acc, 'precision': prec, 'recall': rec, 'f1': f1, 'roc_auc': auc, 'confusion_matrix': cm}\n",
        "    print(f\"=== {name} ===\")\n",
        "    print('Accuracy:', round(acc,4))\n",
        "    print('Precision:', round(prec,4))\n",
        "    print('Recall:', round(rec,4))\n",
        "    print('F1:', round(f1,4))\n",
        "    if auc is not None:\n",
        "        print('ROC AUC:', round(auc,4))\n",
        "    print('Confusion matrix:\\n', cm)\n",
        "    print()\n"
      ]
    },
    {
      "cell_type": "code",
      "execution_count": null,
      "id": "228d2b3e",
      "metadata": {
        "colab": {
          "base_uri": "https://localhost:8080/"
        },
        "id": "228d2b3e",
        "outputId": "d27b5b6c-9e94-4207-8034-cacd369487d5"
      },
      "outputs": [
        {
          "output_type": "stream",
          "name": "stdout",
          "text": [
            "=== k-NN (k=5) ===\n",
            "Accuracy: 0.972\n",
            "Precision: 0.9737\n",
            "Recall: 0.74\n",
            "F1: 0.8409\n",
            "ROC AUC: 0.9646\n",
            "Confusion matrix:\n",
            " [[898   2]\n",
            " [ 26  74]]\n",
            "\n",
            "=== SVM (linear) ===\n",
            "Accuracy: 0.968\n",
            "Precision: 0.7656\n",
            "Recall: 0.98\n",
            "F1: 0.8596\n",
            "ROC AUC: 0.9973\n",
            "Confusion matrix:\n",
            " [[870  30]\n",
            " [  2  98]]\n",
            "\n",
            "=== Decision Tree (max_depth=10) ===\n",
            "Accuracy: 0.911\n",
            "Precision: 0.5534\n",
            "Recall: 0.57\n",
            "F1: 0.5616\n",
            "ROC AUC: 0.691\n",
            "Confusion matrix:\n",
            " [[854  46]\n",
            " [ 43  57]]\n",
            "\n"
          ]
        }
      ],
      "source": [
        "knn = KNeighborsClassifier(n_neighbors=5)\n",
        "evaluate_model('k-NN (k=5)', knn, X_train, y_train, X_test, y_test)\n",
        "\n",
        "svm = SVC(kernel='linear', class_weight='balanced', probability=True, random_state=RANDOM_STATE)\n",
        "evaluate_model('SVM (linear)', svm, X_train, y_train, X_test, y_test)\n",
        "\n",
        "dt = DecisionTreeClassifier(random_state=RANDOM_STATE, max_depth=10)\n",
        "evaluate_model('Decision Tree (max_depth=10)', dt, X_train, y_train, X_test, y_test)\n"
      ]
    },
    {
      "cell_type": "code",
      "execution_count": null,
      "id": "f5168b0f",
      "metadata": {
        "colab": {
          "base_uri": "https://localhost:8080/"
        },
        "id": "f5168b0f",
        "outputId": "5e82755c-b56f-4158-aa38-eb5608699a87"
      },
      "outputs": [
        {
          "output_type": "stream",
          "name": "stdout",
          "text": [
            "GridSearch SVM...\n"
          ]
        }
      ],
      "source": [
        "skf = StratifiedKFold(n_splits=3, shuffle=True, random_state=RANDOM_STATE)\n",
        "\n",
        "svm_grid = {'C':[0.1,1,10]}\n",
        "svm_for_grid = SVC(kernel='linear', class_weight='balanced', probability=True, random_state=RANDOM_STATE)\n",
        "\n",
        "gs_svm = GridSearchCV(svm_for_grid, svm_grid, scoring='f1', cv=skf, n_jobs=-1)\n",
        "print('GridSearch SVM...')\n",
        "gs_svm.fit(X_train, y_train)\n",
        "print('Best SVM params:', gs_svm.best_params_)\n",
        "best_svm = gs_svm.best_estimator_\n",
        "evaluate_model('SVM (tuned)', best_svm, X_train, y_train, X_test, y_test)\n",
        "\n",
        "\n",
        "dt_grid = {'max_depth':[5,10,20], 'min_samples_split':[2,5,10]}\n",
        "dt_for_grid = DecisionTreeClassifier(random_state=RANDOM_STATE)\n",
        "gs_dt = GridSearchCV(dt_for_grid, dt_grid, scoring='f1', cv=skf, n_jobs=-1)\n",
        "print('GridSearch Decision Tree...')\n",
        "gs_dt.fit(X_train, y_train)\n",
        "print('Best DT params:', gs_dt.best_params_)\n",
        "best_dt = gs_dt.best_estimator_\n",
        "evaluate_model('Decision Tree (tuned)', best_dt, X_train, y_train, X_test, y_test)\n"
      ]
    },
    {
      "cell_type": "code",
      "execution_count": null,
      "id": "b3bd7d08",
      "metadata": {
        "id": "b3bd7d08"
      },
      "outputs": [],
      "source": [
        "best_name = max(results.keys(), key=lambda k: results[k]['f1'])\n",
        "print('Best by F1:', best_name)\n",
        "best_model = results[best_name]['model']\n",
        "\n",
        "os.makedirs('models', exist_ok=True)\n",
        "joblib.dump({'model': best_model, 'vectorizer': vectorizer, 'scaler_len': scaler_len}, 'models/best_spam_model.joblib')\n",
        "print('Saved model to models/best_spam_model.joblib')\n"
      ]
    },
    {
      "cell_type": "code",
      "execution_count": null,
      "id": "e95a4be4",
      "metadata": {
        "id": "e95a4be4"
      },
      "outputs": [],
      "source": [
        "def predict_email(text, has_url_flag=None):\n",
        "    X_t = vectorizer.transform([text])\n",
        "    length_val = len(text.split())\n",
        "    length_scaled = scaler_len.transform([[length_val]])\n",
        "    url_val = 0 if has_url_flag is None else (1 if has_url_flag else 0)\n",
        "    X_comb = hstack([X_t, csr_matrix(length_scaled), csr_matrix([[url_val]])])\n",
        "    pred = best_model.predict(X_comb)[0]\n",
        "    prob = None\n",
        "    if hasattr(best_model, 'predict_proba'):\n",
        "        prob = best_model.predict_proba(X_comb)[0,1]\n",
        "    return pred, prob\n",
        "\n",
        "example = 'congratulations you are a winner click buy limited offer'\n",
        "print('Example prediction (spam-like):', predict_email(example, has_url_flag=True))\n"
      ]
    }
  ],
  "metadata": {
    "colab": {
      "provenance": [],
      "include_colab_link": true
    },
    "language_info": {
      "name": "python"
    },
    "kernelspec": {
      "name": "python3",
      "display_name": "Python 3"
    }
  },
  "nbformat": 4,
  "nbformat_minor": 5
}